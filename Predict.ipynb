{
 "cells": [
  {
   "cell_type": "code",
   "execution_count": 1,
   "id": "ab39612d",
   "metadata": {},
   "outputs": [
    {
     "name": "stderr",
     "output_type": "stream",
     "text": [
      "/Users/shubhampatel/Documents/GitHub/Music-Genre-Recognition/mgr/configuration/load.py:12: YAMLLoadWarning: calling yaml.load() without Loader=... is deprecated, as the default Loader is unsafe. Please read https://msg.pyyaml.org/load for full details.\n",
      "  return yaml.load(file)\n"
     ]
    }
   ],
   "source": [
    "import mgr.predict as predict\n",
    "import mgr\n",
    "\n",
    "import torch.nn as nn\n",
    "import torch.nn.functional as F\n",
    "import torch\n",
    "import numpy as np\n",
    "import torchvision\n",
    "\n",
    "CFG = mgr.configuration.load_configurations()"
   ]
  },
  {
   "cell_type": "code",
   "execution_count": 3,
   "id": "12f65166",
   "metadata": {},
   "outputs": [
    {
     "name": "stdout",
     "output_type": "stream",
     "text": [
      "tensor([1.2221e-01, 8.0737e-01, 5.2836e-06, 6.9841e-02, 1.5784e-05, 3.7591e-05,\n",
      "        5.2031e-04, 4.2513e-10])\n",
      "Genre:  Experimental\n"
     ]
    }
   ],
   "source": [
    "class VisionTransformer(nn.Module):\n",
    "    def __init__(self, embed_dim, hidden_dim, num_channels, num_head, num_layers, num_classes, dropout=0.0, h_patch=9, w_patch=14, num_patches=33, device=\"cpu\"):\n",
    "        super().__init__()\n",
    "        self.device = device\n",
    "        self.patch_size = (h_patch, w_patch)\n",
    "        \n",
    "        self.resnet = torchvision.models.resnet34(pretrained=True)\n",
    "        self.resnet.conv1 = nn.Conv2d(1, 64, kernel_size=(7, 7), stride=(2, 2), padding=(3, 3), bias=False)\n",
    "        self.resnet = nn.Sequential(*list(self.resnet.children())[:-5])\n",
    "\n",
    "        self.input_layer = nn.Linear(768, embed_dim)\n",
    "        self.transformer = nn.Sequential(*[AttentionBlock(embed_dim, hidden_dim, num_head, dropout=dropout) for _ in range(num_layers)])\n",
    "        self.mlp_head = nn.Sequential(\n",
    "            nn.LayerNorm(embed_dim),\n",
    "            nn.Linear(embed_dim, num_classes)\n",
    "        )\n",
    "        self.dropout = nn.Dropout(dropout)\n",
    "        \n",
    "        self.cls_token = nn.Parameter(torch.randn(1, 1, embed_dim))\n",
    "        self.pos_embedding = nn.Parameter(torch.randn(1, num_patches, embed_dim))\n",
    "        \n",
    "    def forward(self, x):\n",
    "        x = self.resnet(x)\n",
    "\n",
    "        x = x.flatten(2, 3)\n",
    "        B, T, _ = x.shape\n",
    "        \n",
    "        x = self.input_layer(x)\n",
    "        cls_token = self.cls_token.repeat(B, 1, 1)\n",
    "        x = torch.cat([cls_token, x], dim=1)\n",
    "\n",
    "        x = x + self.pos_embedding[:, :T+1]\n",
    "        \n",
    "        x = self.dropout(x)\n",
    "        x = x.transpose(0, 1)\n",
    "        x = self.transformer(x)\n",
    "\n",
    "        cls = x[0]\n",
    "        out = self.mlp_head(cls)\n",
    "        return out\n",
    "\n",
    "class AttentionBlock(nn.Module):\n",
    "    def __init__(self, embed_dim, hidden_dim, num_heads, dropout=0.0):\n",
    "        super().__init__()\n",
    "        self.layer_norm_1 = nn.LayerNorm(embed_dim)\n",
    "        self.attn = nn.MultiheadAttention(embed_dim, num_heads)\n",
    "        self.layer_norm_2 = nn.LayerNorm(embed_dim)\n",
    "        self.linear = nn.Sequential(\n",
    "            nn.Linear(embed_dim, hidden_dim),\n",
    "            nn.ReLU(),\n",
    "            nn.Dropout(dropout),\n",
    "            nn.Linear(hidden_dim, embed_dim),\n",
    "            nn.Dropout(dropout)\n",
    "        )\n",
    "        \n",
    "    def forward(self, x):\n",
    "        input_x = self.layer_norm_1(x)\n",
    "        x = x + self.attn(input_x, input_x, input_x)[0]\n",
    "        x = x + self.linear(self.layer_norm_2(x))\n",
    "        return x\n",
    "    \n",
    "\n",
    "if __name__ == \"__main__\":\n",
    "    model = VisionTransformer(\n",
    "            embed_dim=256,\n",
    "            hidden_dim=512,\n",
    "            num_head=4,\n",
    "            num_layers=36,\n",
    "            h_patch=9,\n",
    "            w_patch=14,\n",
    "            num_patches=65,\n",
    "            num_channels=1,\n",
    "            num_classes=8,\n",
    "            dropout=0.3,\n",
    "            device=CFG['device']\n",
    "    )\n",
    "    ckpts = torch.load(\"/Users/shubhampatel/Downloads/cnn_transformer_v3.pt\", map_location=CFG['device'])\n",
    "    model.load_state_dict(ckpts['model'])\n",
    "    AUDIO_PATH = \"/Users/shubhampatel/Downloads/hiphop.00001.wav\"\n",
    "    print(\"Genre: \", predict.predict(model, AUDIO_PATH))"
   ]
  },
  {
   "cell_type": "code",
   "execution_count": null,
   "id": "50a940ac",
   "metadata": {},
   "outputs": [],
   "source": []
  }
 ],
 "metadata": {
  "kernelspec": {
   "display_name": "Python 3",
   "language": "python",
   "name": "python3"
  },
  "language_info": {
   "codemirror_mode": {
    "name": "ipython",
    "version": 3
   },
   "file_extension": ".py",
   "mimetype": "text/x-python",
   "name": "python",
   "nbconvert_exporter": "python",
   "pygments_lexer": "ipython3",
   "version": "3.8.8"
  }
 },
 "nbformat": 4,
 "nbformat_minor": 5
}
