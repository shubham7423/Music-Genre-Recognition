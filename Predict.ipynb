{
 "cells": [
  {
   "cell_type": "code",
   "execution_count": 1,
   "id": "ab39612d",
   "metadata": {},
   "outputs": [
    {
     "name": "stderr",
     "output_type": "stream",
     "text": [
      "C:\\Users\\p_hubham\\Documents\\GitHub\\Music-Genre-Recognition\\mgr\\configuration\\load.py:12: YAMLLoadWarning: calling yaml.load() without Loader=... is deprecated, as the default Loader is unsafe. Please read https://msg.pyyaml.org/load for full details.\n",
      "  return yaml.load(file)\n"
     ]
    }
   ],
   "source": [
    "import mgr.predict as predict\n",
    "import mgr\n",
    "\n",
    "import mgr.train.transformer.cnn_transformer_v3 as cnn_transformer_v3\n",
    "\n",
    "import torch\n",
    "import os\n",
    "\n",
    "CFG = mgr.configuration.load_configurations()"
   ]
  },
  {
   "cell_type": "code",
   "execution_count": 2,
   "id": "2fc7f6f0",
   "metadata": {},
   "outputs": [],
   "source": [
    "AUDIO_PATH = \"C:\\\\Users\\p_hubham\\Downloads\\\\17bfb8025e108444b5c50fd06b68-orig.wav\""
   ]
  },
  {
   "cell_type": "markdown",
   "id": "fb4dbf3d",
   "metadata": {},
   "source": [
    "## Model Architecture:\n",
    "1.CNN <br>\n",
    "2.CNN+LSTM <br>\n",
    "3.CNN+Transformer(v3)"
   ]
  },
  {
   "cell_type": "code",
   "execution_count": 3,
   "id": "c3a0c234",
   "metadata": {},
   "outputs": [],
   "source": [
    "model_architecture = 3"
   ]
  },
  {
   "cell_type": "code",
   "execution_count": 4,
   "id": "a2d3c6d3",
   "metadata": {},
   "outputs": [
    {
     "name": "stdout",
     "output_type": "stream",
     "text": [
      "tensor([0.1245, 0.1155, 0.0118, 0.0531, 0.0750, 0.1083, 0.2589, 0.2530],\n",
      "       device='cuda:0')\n",
      "Genre:  Pop\n"
     ]
    },
    {
     "name": "stderr",
     "output_type": "stream",
     "text": [
      "C:\\Users\\p_hubham\\Documents\\GitHub\\Music-Genre-Recognition\\mgr\\predict\\predict.py:160: UserWarning: Implicit dimension choice for softmax has been deprecated. Change the call to include dim=X as an argument.\n",
      "  print(torch.nn.functional.softmax(torch.mean(predicted_labels, dim=0)))\n"
     ]
    }
   ],
   "source": [
    "if model_architecture == 1:\n",
    "    pass\n",
    "\n",
    "elif model_architecture == 2:\n",
    "    pass\n",
    "\n",
    "elif model_architecture == 3:\n",
    "    model = cnn_transformer_v3.getModel()\n",
    "    ckpts = torch.load(os.path.join(CFG['transformer']['train']['save_model_at'], \"transformerv3.pt\"), map_location=CFG['device'])\n",
    "    model.load_state_dict(ckpts['model'])\n",
    "print(\"Genre: \", predict.predict(model, AUDIO_PATH))"
   ]
  },
  {
   "cell_type": "code",
   "execution_count": null,
   "id": "50a940ac",
   "metadata": {},
   "outputs": [],
   "source": []
  }
 ],
 "metadata": {
  "kernelspec": {
   "display_name": "Python 3 (ipykernel)",
   "language": "python",
   "name": "python3"
  },
  "language_info": {
   "codemirror_mode": {
    "name": "ipython",
    "version": 3
   },
   "file_extension": ".py",
   "mimetype": "text/x-python",
   "name": "python",
   "nbconvert_exporter": "python",
   "pygments_lexer": "ipython3",
   "version": "3.8.12"
  }
 },
 "nbformat": 4,
 "nbformat_minor": 5
}
