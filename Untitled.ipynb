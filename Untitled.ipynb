{
 "cells": [
  {
   "cell_type": "markdown",
   "id": "da9776c1",
   "metadata": {},
   "source": [
    "# Train"
   ]
  },
  {
   "cell_type": "code",
   "execution_count": 3,
   "id": "95abb43e",
   "metadata": {},
   "outputs": [],
   "source": [
    "import mgr.train.transformer.cnn_transformer_v3 as cnn_transformer_v3\n",
    "import mgr.train.transformer.cnn_patch_transformer as cnn_patch_transformer\n",
    "\n",
    "import mgr.train.lstm.cnn_lstm as cnn_lstm"
   ]
  },
  {
   "cell_type": "markdown",
   "id": "45e5df38",
   "metadata": {},
   "source": [
    "# Select model to train\n",
    "\n",
    "1.CNN <br>\n",
    "2.CNN+LSTM <br>\n",
    "3.CNN+Transformer <br>\n",
    "4.CNN+Transformer(Patched)"
   ]
  },
  {
   "cell_type": "code",
   "execution_count": 4,
   "id": "11e7a721",
   "metadata": {},
   "outputs": [
    {
     "name": "stdout",
     "output_type": "stream",
     "text": [
      "Enter choice(i.e. 1, 2, 3, 4): 2\n"
     ]
    }
   ],
   "source": [
    "model_option = int(input(\"Enter choice(i.e. 1, 2, 3, 4): \"))"
   ]
  },
  {
   "cell_type": "code",
   "execution_count": null,
   "id": "5be21108",
   "metadata": {},
   "outputs": [
    {
     "name": "stderr",
     "output_type": "stream",
     "text": [
      "C:\\Users\\p_hubham\\Documents\\GitHub\\Music-Genre-Recognition\\mgr\\configuration\\load.py:12: YAMLLoadWarning: calling yaml.load() without Loader=... is deprecated, as the default Loader is unsafe. Please read https://msg.pyyaml.org/load for full details.\n",
      "  return yaml.load(file)\n"
     ]
    },
    {
     "name": "stdout",
     "output_type": "stream",
     "text": [
      "torch.Size([71973, 1, 128, 94]) (71973,)\n",
      "=> Training on cuda\n"
     ]
    },
    {
     "data": {
      "application/vnd.jupyter.widget-view+json": {
       "model_id": "3e7e3fa0df8e4ffb9e6016bbc9593fca",
       "version_major": 2,
       "version_minor": 0
      },
      "text/plain": [
       "\n",
       "EPOCH: 1 training:   0%|          | 0/956 [00:00<?, ?it/s]"
      ]
     },
     "metadata": {},
     "output_type": "display_data"
    },
    {
     "data": {
      "application/vnd.jupyter.widget-view+json": {
       "model_id": "f886ea40774a4e938eb6a30290ee00c6",
       "version_major": 2,
       "version_minor": 0
      },
      "text/plain": [
       "EPOCH: 1 validation:   0%|          | 0/169 [00:00<?, ?it/s]"
      ]
     },
     "metadata": {},
     "output_type": "display_data"
    },
    {
     "name": "stdout",
     "output_type": "stream",
     "text": [
      "Train Loss: 1.7091 \tTrain Acc: 0.3615 \tVal Loss: 1.5954 \tVal Acc: 0.4184\n",
      "\n",
      "Val loss decreased (inf -> 1.5954), Model saved\n"
     ]
    },
    {
     "data": {
      "application/vnd.jupyter.widget-view+json": {
       "model_id": "c51428ea1f98486ea3258c2d8a47cdc8",
       "version_major": 2,
       "version_minor": 0
      },
      "text/plain": [
       "\n",
       "EPOCH: 2 training:   0%|          | 0/956 [00:00<?, ?it/s]"
      ]
     },
     "metadata": {},
     "output_type": "display_data"
    },
    {
     "data": {
      "application/vnd.jupyter.widget-view+json": {
       "model_id": "8b147df0a55842f98fdfe59379189272",
       "version_major": 2,
       "version_minor": 0
      },
      "text/plain": [
       "EPOCH: 2 validation:   0%|          | 0/169 [00:00<?, ?it/s]"
      ]
     },
     "metadata": {},
     "output_type": "display_data"
    },
    {
     "name": "stdout",
     "output_type": "stream",
     "text": [
      "Train Loss: 1.5116 \tTrain Acc: 0.4585 \tVal Loss: 1.4465 \tVal Acc: 0.4899\n",
      "\n",
      "Val loss decreased (1.5954 -> 1.4465), Model saved\n"
     ]
    },
    {
     "data": {
      "application/vnd.jupyter.widget-view+json": {
       "model_id": "ab2384dcbbc840849b6edc78fd02fbe6",
       "version_major": 2,
       "version_minor": 0
      },
      "text/plain": [
       "\n",
       "EPOCH: 3 training:   0%|          | 0/956 [00:00<?, ?it/s]"
      ]
     },
     "metadata": {},
     "output_type": "display_data"
    },
    {
     "data": {
      "application/vnd.jupyter.widget-view+json": {
       "model_id": "899224af808c40eabe5a765a328c9b79",
       "version_major": 2,
       "version_minor": 0
      },
      "text/plain": [
       "EPOCH: 3 validation:   0%|          | 0/169 [00:00<?, ?it/s]"
      ]
     },
     "metadata": {},
     "output_type": "display_data"
    },
    {
     "name": "stdout",
     "output_type": "stream",
     "text": [
      "Train Loss: 1.3967 \tTrain Acc: 0.5125 \tVal Loss: 1.3803 \tVal Acc: 0.5266\n",
      "\n",
      "Val loss decreased (1.4465 -> 1.3803), Model saved\n"
     ]
    },
    {
     "data": {
      "application/vnd.jupyter.widget-view+json": {
       "model_id": "7e3cfb0c25e140a4b814e77047d22651",
       "version_major": 2,
       "version_minor": 0
      },
      "text/plain": [
       "\n",
       "EPOCH: 4 training:   0%|          | 0/956 [00:00<?, ?it/s]"
      ]
     },
     "metadata": {},
     "output_type": "display_data"
    },
    {
     "data": {
      "application/vnd.jupyter.widget-view+json": {
       "model_id": "e2c7ebab91d4490896865bc8a03befcc",
       "version_major": 2,
       "version_minor": 0
      },
      "text/plain": [
       "EPOCH: 4 validation:   0%|          | 0/169 [00:00<?, ?it/s]"
      ]
     },
     "metadata": {},
     "output_type": "display_data"
    },
    {
     "name": "stdout",
     "output_type": "stream",
     "text": [
      "Train Loss: 1.3281 \tTrain Acc: 0.5394 \tVal Loss: 1.3178 \tVal Acc: 0.5429\n",
      "\n",
      "Val loss decreased (1.3803 -> 1.3178), Model saved\n"
     ]
    },
    {
     "data": {
      "application/vnd.jupyter.widget-view+json": {
       "model_id": "0210e2b32569443d8fc258121911a3b7",
       "version_major": 2,
       "version_minor": 0
      },
      "text/plain": [
       "\n",
       "EPOCH: 5 training:   0%|          | 0/956 [00:00<?, ?it/s]"
      ]
     },
     "metadata": {},
     "output_type": "display_data"
    },
    {
     "data": {
      "application/vnd.jupyter.widget-view+json": {
       "model_id": "01f6a0848d524243a7051184c039a212",
       "version_major": 2,
       "version_minor": 0
      },
      "text/plain": [
       "EPOCH: 5 validation:   0%|          | 0/169 [00:00<?, ?it/s]"
      ]
     },
     "metadata": {},
     "output_type": "display_data"
    },
    {
     "name": "stdout",
     "output_type": "stream",
     "text": [
      "Train Loss: 1.2825 \tTrain Acc: 0.5580 \tVal Loss: 1.2928 \tVal Acc: 0.5471\n",
      "\n",
      "Val loss decreased (1.3178 -> 1.2928), Model saved\n"
     ]
    },
    {
     "data": {
      "application/vnd.jupyter.widget-view+json": {
       "model_id": "d03e2dc9a42c4e3cb93260c2d01f6994",
       "version_major": 2,
       "version_minor": 0
      },
      "text/plain": [
       "\n",
       "EPOCH: 6 training:   0%|          | 0/956 [00:00<?, ?it/s]"
      ]
     },
     "metadata": {},
     "output_type": "display_data"
    },
    {
     "data": {
      "application/vnd.jupyter.widget-view+json": {
       "model_id": "da44c6f433c2466f98e7ac132ba05269",
       "version_major": 2,
       "version_minor": 0
      },
      "text/plain": [
       "EPOCH: 6 validation:   0%|          | 0/169 [00:00<?, ?it/s]"
      ]
     },
     "metadata": {},
     "output_type": "display_data"
    },
    {
     "name": "stdout",
     "output_type": "stream",
     "text": [
      "Train Loss: 1.2523 \tTrain Acc: 0.5694 \tVal Loss: 1.2769 \tVal Acc: 0.5645\n",
      "\n",
      "Val loss decreased (1.2928 -> 1.2769), Model saved\n"
     ]
    },
    {
     "data": {
      "application/vnd.jupyter.widget-view+json": {
       "model_id": "f3470305122b49709a5d4ee230c1cfdf",
       "version_major": 2,
       "version_minor": 0
      },
      "text/plain": [
       "\n",
       "EPOCH: 7 training:   0%|          | 0/956 [00:00<?, ?it/s]"
      ]
     },
     "metadata": {},
     "output_type": "display_data"
    },
    {
     "data": {
      "application/vnd.jupyter.widget-view+json": {
       "model_id": "1d1c3e1b34c2415e90364dc98b09cc19",
       "version_major": 2,
       "version_minor": 0
      },
      "text/plain": [
       "EPOCH: 7 validation:   0%|          | 0/169 [00:00<?, ?it/s]"
      ]
     },
     "metadata": {},
     "output_type": "display_data"
    },
    {
     "name": "stdout",
     "output_type": "stream",
     "text": [
      "Train Loss: 1.2208 \tTrain Acc: 0.5817 \tVal Loss: 1.2379 \tVal Acc: 0.5716\n",
      "\n",
      "Val loss decreased (1.2769 -> 1.2379), Model saved\n"
     ]
    },
    {
     "data": {
      "application/vnd.jupyter.widget-view+json": {
       "model_id": "86d49597e9134a6e9d3eb4e7cf581d04",
       "version_major": 2,
       "version_minor": 0
      },
      "text/plain": [
       "\n",
       "EPOCH: 8 training:   0%|          | 0/956 [00:00<?, ?it/s]"
      ]
     },
     "metadata": {},
     "output_type": "display_data"
    },
    {
     "data": {
      "application/vnd.jupyter.widget-view+json": {
       "model_id": "f0cf0e9bc9d54d038e98cbb6de984bb2",
       "version_major": 2,
       "version_minor": 0
      },
      "text/plain": [
       "EPOCH: 8 validation:   0%|          | 0/169 [00:00<?, ?it/s]"
      ]
     },
     "metadata": {},
     "output_type": "display_data"
    },
    {
     "name": "stdout",
     "output_type": "stream",
     "text": [
      "Train Loss: 1.1970 \tTrain Acc: 0.5873 \tVal Loss: 1.2182 \tVal Acc: 0.5766\n",
      "\n",
      "Val loss decreased (1.2379 -> 1.2182), Model saved\n"
     ]
    },
    {
     "data": {
      "application/vnd.jupyter.widget-view+json": {
       "model_id": "51b11c0d0ff0485fb97c40c24c51c0ca",
       "version_major": 2,
       "version_minor": 0
      },
      "text/plain": [
       "\n",
       "EPOCH: 9 training:   0%|          | 0/956 [00:00<?, ?it/s]"
      ]
     },
     "metadata": {},
     "output_type": "display_data"
    },
    {
     "data": {
      "application/vnd.jupyter.widget-view+json": {
       "model_id": "2f875b7265bb401baf08f4db16495069",
       "version_major": 2,
       "version_minor": 0
      },
      "text/plain": [
       "EPOCH: 9 validation:   0%|          | 0/169 [00:00<?, ?it/s]"
      ]
     },
     "metadata": {},
     "output_type": "display_data"
    },
    {
     "name": "stdout",
     "output_type": "stream",
     "text": [
      "Train Loss: 1.1779 \tTrain Acc: 0.5966 \tVal Loss: 1.2102 \tVal Acc: 0.5840\n",
      "\n",
      "Val loss decreased (1.2182 -> 1.2102), Model saved\n"
     ]
    },
    {
     "data": {
      "application/vnd.jupyter.widget-view+json": {
       "model_id": "8a39fb45d83349349dba31101972f388",
       "version_major": 2,
       "version_minor": 0
      },
      "text/plain": [
       "\n",
       "EPOCH: 10 training:   0%|          | 0/956 [00:00<?, ?it/s]"
      ]
     },
     "metadata": {},
     "output_type": "display_data"
    },
    {
     "data": {
      "application/vnd.jupyter.widget-view+json": {
       "model_id": "67fc8d0a09e24104a6f6986c0ef68bd3",
       "version_major": 2,
       "version_minor": 0
      },
      "text/plain": [
       "EPOCH: 10 validation:   0%|          | 0/169 [00:00<?, ?it/s]"
      ]
     },
     "metadata": {},
     "output_type": "display_data"
    },
    {
     "name": "stdout",
     "output_type": "stream",
     "text": [
      "Train Loss: 1.1549 \tTrain Acc: 0.6042 \tVal Loss: 1.2225 \tVal Acc: 0.5851\n"
     ]
    },
    {
     "data": {
      "application/vnd.jupyter.widget-view+json": {
       "model_id": "3ae3e81ed2674eddb56c76f335219188",
       "version_major": 2,
       "version_minor": 0
      },
      "text/plain": [
       "\n",
       "EPOCH: 11 training:   0%|          | 0/956 [00:00<?, ?it/s]"
      ]
     },
     "metadata": {},
     "output_type": "display_data"
    },
    {
     "data": {
      "application/vnd.jupyter.widget-view+json": {
       "model_id": "27266013d2fc48b5bb0204131f08ef69",
       "version_major": 2,
       "version_minor": 0
      },
      "text/plain": [
       "EPOCH: 11 validation:   0%|          | 0/169 [00:00<?, ?it/s]"
      ]
     },
     "metadata": {},
     "output_type": "display_data"
    },
    {
     "name": "stdout",
     "output_type": "stream",
     "text": [
      "Train Loss: 1.1352 \tTrain Acc: 0.6115 \tVal Loss: 1.1637 \tVal Acc: 0.5994\n",
      "\n",
      "Val loss decreased (1.2102 -> 1.1637), Model saved\n"
     ]
    },
    {
     "data": {
      "application/vnd.jupyter.widget-view+json": {
       "model_id": "f4f02df8ef7a4cd2a29b36ce0067fe19",
       "version_major": 2,
       "version_minor": 0
      },
      "text/plain": [
       "\n",
       "EPOCH: 12 training:   0%|          | 0/956 [00:00<?, ?it/s]"
      ]
     },
     "metadata": {},
     "output_type": "display_data"
    },
    {
     "data": {
      "application/vnd.jupyter.widget-view+json": {
       "model_id": "50105bb8f1d84e1fa885d12fda1cfb54",
       "version_major": 2,
       "version_minor": 0
      },
      "text/plain": [
       "EPOCH: 12 validation:   0%|          | 0/169 [00:00<?, ?it/s]"
      ]
     },
     "metadata": {},
     "output_type": "display_data"
    },
    {
     "name": "stdout",
     "output_type": "stream",
     "text": [
      "Train Loss: 1.1216 \tTrain Acc: 0.6144 \tVal Loss: 1.1748 \tVal Acc: 0.5923\n"
     ]
    },
    {
     "data": {
      "application/vnd.jupyter.widget-view+json": {
       "model_id": "c8d587ce2d614e3da341389457b5bee8",
       "version_major": 2,
       "version_minor": 0
      },
      "text/plain": [
       "\n",
       "EPOCH: 13 training:   0%|          | 0/956 [00:00<?, ?it/s]"
      ]
     },
     "metadata": {},
     "output_type": "display_data"
    },
    {
     "data": {
      "application/vnd.jupyter.widget-view+json": {
       "model_id": "14b2545c5e304f4aa9c995adb2fc422e",
       "version_major": 2,
       "version_minor": 0
      },
      "text/plain": [
       "EPOCH: 13 validation:   0%|          | 0/169 [00:00<?, ?it/s]"
      ]
     },
     "metadata": {},
     "output_type": "display_data"
    },
    {
     "name": "stdout",
     "output_type": "stream",
     "text": [
      "Train Loss: 1.0994 \tTrain Acc: 0.6234 \tVal Loss: 1.1414 \tVal Acc: 0.6104\n",
      "\n",
      "Val loss decreased (1.1637 -> 1.1414), Model saved\n"
     ]
    },
    {
     "data": {
      "application/vnd.jupyter.widget-view+json": {
       "model_id": "769bcd940ef84ef6ba5a8ff722ced754",
       "version_major": 2,
       "version_minor": 0
      },
      "text/plain": [
       "\n",
       "EPOCH: 14 training:   0%|          | 0/956 [00:00<?, ?it/s]"
      ]
     },
     "metadata": {},
     "output_type": "display_data"
    },
    {
     "data": {
      "application/vnd.jupyter.widget-view+json": {
       "model_id": "793c66522976466f925b9dda23699ea9",
       "version_major": 2,
       "version_minor": 0
      },
      "text/plain": [
       "EPOCH: 14 validation:   0%|          | 0/169 [00:00<?, ?it/s]"
      ]
     },
     "metadata": {},
     "output_type": "display_data"
    },
    {
     "name": "stdout",
     "output_type": "stream",
     "text": [
      "Train Loss: 1.0903 \tTrain Acc: 0.6253 \tVal Loss: 1.1360 \tVal Acc: 0.6064\n",
      "\n",
      "Val loss decreased (1.1414 -> 1.1360), Model saved\n"
     ]
    },
    {
     "data": {
      "application/vnd.jupyter.widget-view+json": {
       "model_id": "bb5d078500434b95809b55a1f2edde55",
       "version_major": 2,
       "version_minor": 0
      },
      "text/plain": [
       "\n",
       "EPOCH: 15 training:   0%|          | 0/956 [00:00<?, ?it/s]"
      ]
     },
     "metadata": {},
     "output_type": "display_data"
    },
    {
     "data": {
      "application/vnd.jupyter.widget-view+json": {
       "model_id": "8c4e8ed2e9fc488080b2993c2429757e",
       "version_major": 2,
       "version_minor": 0
      },
      "text/plain": [
       "EPOCH: 15 validation:   0%|          | 0/169 [00:00<?, ?it/s]"
      ]
     },
     "metadata": {},
     "output_type": "display_data"
    },
    {
     "name": "stdout",
     "output_type": "stream",
     "text": [
      "Train Loss: 1.0745 \tTrain Acc: 0.6339 \tVal Loss: 1.1245 \tVal Acc: 0.6080\n",
      "\n",
      "Val loss decreased (1.1360 -> 1.1245), Model saved\n"
     ]
    },
    {
     "data": {
      "application/vnd.jupyter.widget-view+json": {
       "model_id": "68b2ad873ef949338f81ac26c4cb5d66",
       "version_major": 2,
       "version_minor": 0
      },
      "text/plain": [
       "\n",
       "EPOCH: 16 training:   0%|          | 0/956 [00:00<?, ?it/s]"
      ]
     },
     "metadata": {},
     "output_type": "display_data"
    },
    {
     "data": {
      "application/vnd.jupyter.widget-view+json": {
       "model_id": "ca8192f85a8747d2b97bbfbaf9e6544a",
       "version_major": 2,
       "version_minor": 0
      },
      "text/plain": [
       "EPOCH: 16 validation:   0%|          | 0/169 [00:00<?, ?it/s]"
      ]
     },
     "metadata": {},
     "output_type": "display_data"
    },
    {
     "name": "stdout",
     "output_type": "stream",
     "text": [
      "Train Loss: 1.0522 \tTrain Acc: 0.6379 \tVal Loss: 1.1705 \tVal Acc: 0.5969\n"
     ]
    },
    {
     "data": {
      "application/vnd.jupyter.widget-view+json": {
       "model_id": "98eea8949a8940c29f0a090d5267a1d1",
       "version_major": 2,
       "version_minor": 0
      },
      "text/plain": [
       "\n",
       "EPOCH: 17 training:   0%|          | 0/956 [00:00<?, ?it/s]"
      ]
     },
     "metadata": {},
     "output_type": "display_data"
    },
    {
     "data": {
      "application/vnd.jupyter.widget-view+json": {
       "model_id": "87e793a49a074d198b8878f4f74f169e",
       "version_major": 2,
       "version_minor": 0
      },
      "text/plain": [
       "EPOCH: 17 validation:   0%|          | 0/169 [00:00<?, ?it/s]"
      ]
     },
     "metadata": {},
     "output_type": "display_data"
    },
    {
     "name": "stdout",
     "output_type": "stream",
     "text": [
      "Train Loss: 1.0478 \tTrain Acc: 0.6411 \tVal Loss: 1.1271 \tVal Acc: 0.6177\n"
     ]
    },
    {
     "data": {
      "application/vnd.jupyter.widget-view+json": {
       "model_id": "88b7790062da4d2683689bf16ad4bcaa",
       "version_major": 2,
       "version_minor": 0
      },
      "text/plain": [
       "\n",
       "EPOCH: 18 training:   0%|          | 0/956 [00:00<?, ?it/s]"
      ]
     },
     "metadata": {},
     "output_type": "display_data"
    },
    {
     "data": {
      "application/vnd.jupyter.widget-view+json": {
       "model_id": "67e5f9a9a9e04db08615c85aaff617f0",
       "version_major": 2,
       "version_minor": 0
      },
      "text/plain": [
       "EPOCH: 18 validation:   0%|          | 0/169 [00:00<?, ?it/s]"
      ]
     },
     "metadata": {},
     "output_type": "display_data"
    },
    {
     "name": "stdout",
     "output_type": "stream",
     "text": [
      "Train Loss: 1.0429 \tTrain Acc: 0.6436 \tVal Loss: 1.1192 \tVal Acc: 0.6187\n",
      "\n",
      "Val loss decreased (1.1245 -> 1.1192), Model saved\n"
     ]
    },
    {
     "data": {
      "application/vnd.jupyter.widget-view+json": {
       "model_id": "b8fc30bac9ce4e2ebc5bc69126739a21",
       "version_major": 2,
       "version_minor": 0
      },
      "text/plain": [
       "\n",
       "EPOCH: 19 training:   0%|          | 0/956 [00:00<?, ?it/s]"
      ]
     },
     "metadata": {},
     "output_type": "display_data"
    },
    {
     "data": {
      "application/vnd.jupyter.widget-view+json": {
       "model_id": "714ffde218c344ac98326d762c98dbd8",
       "version_major": 2,
       "version_minor": 0
      },
      "text/plain": [
       "EPOCH: 19 validation:   0%|          | 0/169 [00:00<?, ?it/s]"
      ]
     },
     "metadata": {},
     "output_type": "display_data"
    },
    {
     "name": "stdout",
     "output_type": "stream",
     "text": [
      "Train Loss: 1.0343 \tTrain Acc: 0.6466 \tVal Loss: 1.0835 \tVal Acc: 0.6244\n",
      "\n",
      "Val loss decreased (1.1192 -> 1.0835), Model saved\n"
     ]
    },
    {
     "data": {
      "application/vnd.jupyter.widget-view+json": {
       "model_id": "6706d9a3dae6434d98f6884092b8785b",
       "version_major": 2,
       "version_minor": 0
      },
      "text/plain": [
       "\n",
       "EPOCH: 20 training:   0%|          | 0/956 [00:00<?, ?it/s]"
      ]
     },
     "metadata": {},
     "output_type": "display_data"
    },
    {
     "data": {
      "application/vnd.jupyter.widget-view+json": {
       "model_id": "2cf2970031a040af97e5aca9d2009b1d",
       "version_major": 2,
       "version_minor": 0
      },
      "text/plain": [
       "EPOCH: 20 validation:   0%|          | 0/169 [00:00<?, ?it/s]"
      ]
     },
     "metadata": {},
     "output_type": "display_data"
    },
    {
     "name": "stdout",
     "output_type": "stream",
     "text": [
      "Train Loss: 1.0032 \tTrain Acc: 0.6536 \tVal Loss: 1.0966 \tVal Acc: 0.6261\n"
     ]
    },
    {
     "data": {
      "application/vnd.jupyter.widget-view+json": {
       "model_id": "eb6503210cb541c9a852ca7ecf0846e1",
       "version_major": 2,
       "version_minor": 0
      },
      "text/plain": [
       "\n",
       "EPOCH: 21 training:   0%|          | 0/956 [00:00<?, ?it/s]"
      ]
     },
     "metadata": {},
     "output_type": "display_data"
    },
    {
     "data": {
      "application/vnd.jupyter.widget-view+json": {
       "model_id": "e2cc2ac4430b49808bd8191e61d6b33f",
       "version_major": 2,
       "version_minor": 0
      },
      "text/plain": [
       "EPOCH: 21 validation:   0%|          | 0/169 [00:00<?, ?it/s]"
      ]
     },
     "metadata": {},
     "output_type": "display_data"
    },
    {
     "name": "stdout",
     "output_type": "stream",
     "text": [
      "Train Loss: 0.9909 \tTrain Acc: 0.6578 \tVal Loss: 1.0885 \tVal Acc: 0.6261\n"
     ]
    },
    {
     "data": {
      "application/vnd.jupyter.widget-view+json": {
       "model_id": "dff81053b7104b0a9982ed4b132c217c",
       "version_major": 2,
       "version_minor": 0
      },
      "text/plain": [
       "\n",
       "EPOCH: 22 training:   0%|          | 0/956 [00:00<?, ?it/s]"
      ]
     },
     "metadata": {},
     "output_type": "display_data"
    },
    {
     "data": {
      "application/vnd.jupyter.widget-view+json": {
       "model_id": "0da02d756980458eb91246c04d41876e",
       "version_major": 2,
       "version_minor": 0
      },
      "text/plain": [
       "EPOCH: 22 validation:   0%|          | 0/169 [00:00<?, ?it/s]"
      ]
     },
     "metadata": {},
     "output_type": "display_data"
    },
    {
     "name": "stdout",
     "output_type": "stream",
     "text": [
      "Train Loss: 0.9802 \tTrain Acc: 0.6608 \tVal Loss: 1.0848 \tVal Acc: 0.6254\n"
     ]
    },
    {
     "data": {
      "application/vnd.jupyter.widget-view+json": {
       "model_id": "5f4a0cfedf9c48cf860e9dc36754ad71",
       "version_major": 2,
       "version_minor": 0
      },
      "text/plain": [
       "\n",
       "EPOCH: 23 training:   0%|          | 0/956 [00:00<?, ?it/s]"
      ]
     },
     "metadata": {},
     "output_type": "display_data"
    },
    {
     "data": {
      "application/vnd.jupyter.widget-view+json": {
       "model_id": "04b3f47cb5fa4820ba4d78954c7fb3c5",
       "version_major": 2,
       "version_minor": 0
      },
      "text/plain": [
       "EPOCH: 23 validation:   0%|          | 0/169 [00:00<?, ?it/s]"
      ]
     },
     "metadata": {},
     "output_type": "display_data"
    },
    {
     "name": "stdout",
     "output_type": "stream",
     "text": [
      "Train Loss: 0.9629 \tTrain Acc: 0.6655 \tVal Loss: 1.0541 \tVal Acc: 0.6348\n",
      "\n",
      "Val loss decreased (1.0835 -> 1.0541), Model saved\n"
     ]
    },
    {
     "data": {
      "application/vnd.jupyter.widget-view+json": {
       "model_id": "021cfb73f59740ddbb235c054f86ac23",
       "version_major": 2,
       "version_minor": 0
      },
      "text/plain": [
       "\n",
       "EPOCH: 24 training:   0%|          | 0/956 [00:00<?, ?it/s]"
      ]
     },
     "metadata": {},
     "output_type": "display_data"
    },
    {
     "data": {
      "application/vnd.jupyter.widget-view+json": {
       "model_id": "5bb99eedc6734c3f81c1cf2d7ff2fffe",
       "version_major": 2,
       "version_minor": 0
      },
      "text/plain": [
       "EPOCH: 24 validation:   0%|          | 0/169 [00:00<?, ?it/s]"
      ]
     },
     "metadata": {},
     "output_type": "display_data"
    },
    {
     "name": "stdout",
     "output_type": "stream",
     "text": [
      "Train Loss: 0.9553 \tTrain Acc: 0.6684 \tVal Loss: 1.0423 \tVal Acc: 0.6384\n",
      "\n",
      "Val loss decreased (1.0541 -> 1.0423), Model saved\n"
     ]
    },
    {
     "data": {
      "application/vnd.jupyter.widget-view+json": {
       "model_id": "54a408c31538421599e5710a516a4971",
       "version_major": 2,
       "version_minor": 0
      },
      "text/plain": [
       "\n",
       "EPOCH: 25 training:   0%|          | 0/956 [00:00<?, ?it/s]"
      ]
     },
     "metadata": {},
     "output_type": "display_data"
    },
    {
     "data": {
      "application/vnd.jupyter.widget-view+json": {
       "model_id": "9e2dd1ead0b5493cbc838775d9923c71",
       "version_major": 2,
       "version_minor": 0
      },
      "text/plain": [
       "EPOCH: 25 validation:   0%|          | 0/169 [00:00<?, ?it/s]"
      ]
     },
     "metadata": {},
     "output_type": "display_data"
    },
    {
     "name": "stdout",
     "output_type": "stream",
     "text": [
      "Train Loss: 0.9460 \tTrain Acc: 0.6740 \tVal Loss: 1.0593 \tVal Acc: 0.6372\n"
     ]
    },
    {
     "data": {
      "application/vnd.jupyter.widget-view+json": {
       "model_id": "1faafb459606443a9debbebd66840fdd",
       "version_major": 2,
       "version_minor": 0
      },
      "text/plain": [
       "\n",
       "EPOCH: 26 training:   0%|          | 0/956 [00:00<?, ?it/s]"
      ]
     },
     "metadata": {},
     "output_type": "display_data"
    },
    {
     "data": {
      "application/vnd.jupyter.widget-view+json": {
       "model_id": "5f7ee11d7b95403c96b1ca73cd1fb35b",
       "version_major": 2,
       "version_minor": 0
      },
      "text/plain": [
       "EPOCH: 26 validation:   0%|          | 0/169 [00:00<?, ?it/s]"
      ]
     },
     "metadata": {},
     "output_type": "display_data"
    },
    {
     "name": "stdout",
     "output_type": "stream",
     "text": [
      "Train Loss: 0.9346 \tTrain Acc: 0.6761 \tVal Loss: 1.0871 \tVal Acc: 0.6288\n"
     ]
    },
    {
     "data": {
      "application/vnd.jupyter.widget-view+json": {
       "model_id": "f6eccf08fd794a4983241216cb4e60f6",
       "version_major": 2,
       "version_minor": 0
      },
      "text/plain": [
       "\n",
       "EPOCH: 27 training:   0%|          | 0/956 [00:00<?, ?it/s]"
      ]
     },
     "metadata": {},
     "output_type": "display_data"
    },
    {
     "data": {
      "application/vnd.jupyter.widget-view+json": {
       "model_id": "144663df0273417a8daa3be0476dfc35",
       "version_major": 2,
       "version_minor": 0
      },
      "text/plain": [
       "EPOCH: 27 validation:   0%|          | 0/169 [00:00<?, ?it/s]"
      ]
     },
     "metadata": {},
     "output_type": "display_data"
    },
    {
     "name": "stdout",
     "output_type": "stream",
     "text": [
      "Train Loss: 0.9209 \tTrain Acc: 0.6835 \tVal Loss: 1.0689 \tVal Acc: 0.6345\n"
     ]
    },
    {
     "data": {
      "application/vnd.jupyter.widget-view+json": {
       "model_id": "684c2568649b4c9b92a0a7a96679e2df",
       "version_major": 2,
       "version_minor": 0
      },
      "text/plain": [
       "\n",
       "EPOCH: 28 training:   0%|          | 0/956 [00:00<?, ?it/s]"
      ]
     },
     "metadata": {},
     "output_type": "display_data"
    },
    {
     "data": {
      "application/vnd.jupyter.widget-view+json": {
       "model_id": "5743ca78a6854c9b86613d828ad51ad6",
       "version_major": 2,
       "version_minor": 0
      },
      "text/plain": [
       "EPOCH: 28 validation:   0%|          | 0/169 [00:00<?, ?it/s]"
      ]
     },
     "metadata": {},
     "output_type": "display_data"
    },
    {
     "name": "stdout",
     "output_type": "stream",
     "text": [
      "Train Loss: 0.9019 \tTrain Acc: 0.6881 \tVal Loss: 1.0542 \tVal Acc: 0.6400\n"
     ]
    },
    {
     "data": {
      "application/vnd.jupyter.widget-view+json": {
       "model_id": "0a4140e3016a4cd7ad480f6bdbeca848",
       "version_major": 2,
       "version_minor": 0
      },
      "text/plain": [
       "\n",
       "EPOCH: 29 training:   0%|          | 0/956 [00:00<?, ?it/s]"
      ]
     },
     "metadata": {},
     "output_type": "display_data"
    },
    {
     "data": {
      "application/vnd.jupyter.widget-view+json": {
       "model_id": "531b6d99c1c74d1eb0b49a87b3e898c5",
       "version_major": 2,
       "version_minor": 0
      },
      "text/plain": [
       "EPOCH: 29 validation:   0%|          | 0/169 [00:00<?, ?it/s]"
      ]
     },
     "metadata": {},
     "output_type": "display_data"
    },
    {
     "name": "stdout",
     "output_type": "stream",
     "text": [
      "Train Loss: 0.8890 \tTrain Acc: 0.6923 \tVal Loss: 1.0055 \tVal Acc: 0.6574\n",
      "\n",
      "Val loss decreased (1.0423 -> 1.0055), Model saved\n"
     ]
    },
    {
     "data": {
      "application/vnd.jupyter.widget-view+json": {
       "model_id": "b0b95e2fd50c4fd28676f0c11e0b0276",
       "version_major": 2,
       "version_minor": 0
      },
      "text/plain": [
       "\n",
       "EPOCH: 30 training:   0%|          | 0/956 [00:00<?, ?it/s]"
      ]
     },
     "metadata": {},
     "output_type": "display_data"
    },
    {
     "data": {
      "application/vnd.jupyter.widget-view+json": {
       "model_id": "3112f6bc16874d559aa4a220b1047153",
       "version_major": 2,
       "version_minor": 0
      },
      "text/plain": [
       "EPOCH: 30 validation:   0%|          | 0/169 [00:00<?, ?it/s]"
      ]
     },
     "metadata": {},
     "output_type": "display_data"
    },
    {
     "name": "stdout",
     "output_type": "stream",
     "text": [
      "Train Loss: 0.8913 \tTrain Acc: 0.6907 \tVal Loss: 1.0278 \tVal Acc: 0.6456\n"
     ]
    },
    {
     "data": {
      "application/vnd.jupyter.widget-view+json": {
       "model_id": "4b7b2c92e3424eddb46224a913343384",
       "version_major": 2,
       "version_minor": 0
      },
      "text/plain": [
       "\n",
       "EPOCH: 31 training:   0%|          | 0/956 [00:00<?, ?it/s]"
      ]
     },
     "metadata": {},
     "output_type": "display_data"
    },
    {
     "data": {
      "application/vnd.jupyter.widget-view+json": {
       "model_id": "240e11ffe9784667b68a9f9793669296",
       "version_major": 2,
       "version_minor": 0
      },
      "text/plain": [
       "EPOCH: 31 validation:   0%|          | 0/169 [00:00<?, ?it/s]"
      ]
     },
     "metadata": {},
     "output_type": "display_data"
    },
    {
     "name": "stdout",
     "output_type": "stream",
     "text": [
      "Train Loss: 0.8779 \tTrain Acc: 0.6953 \tVal Loss: 1.0421 \tVal Acc: 0.6442\n"
     ]
    },
    {
     "data": {
      "application/vnd.jupyter.widget-view+json": {
       "model_id": "e244b19da52d4f0a9acaff1977a6db50",
       "version_major": 2,
       "version_minor": 0
      },
      "text/plain": [
       "\n",
       "EPOCH: 32 training:   0%|          | 0/956 [00:00<?, ?it/s]"
      ]
     },
     "metadata": {},
     "output_type": "display_data"
    },
    {
     "data": {
      "application/vnd.jupyter.widget-view+json": {
       "model_id": "11b0145900d747e0a649447f0840dce4",
       "version_major": 2,
       "version_minor": 0
      },
      "text/plain": [
       "EPOCH: 32 validation:   0%|          | 0/169 [00:00<?, ?it/s]"
      ]
     },
     "metadata": {},
     "output_type": "display_data"
    },
    {
     "name": "stdout",
     "output_type": "stream",
     "text": [
      "Train Loss: 0.8741 \tTrain Acc: 0.6975 \tVal Loss: 1.0265 \tVal Acc: 0.6539\n"
     ]
    },
    {
     "data": {
      "application/vnd.jupyter.widget-view+json": {
       "model_id": "296941018c484a609c94187ea18d0a59",
       "version_major": 2,
       "version_minor": 0
      },
      "text/plain": [
       "\n",
       "EPOCH: 33 training:   0%|          | 0/956 [00:00<?, ?it/s]"
      ]
     },
     "metadata": {},
     "output_type": "display_data"
    },
    {
     "data": {
      "application/vnd.jupyter.widget-view+json": {
       "model_id": "39bf0e4b98f8495b90cd516c01373393",
       "version_major": 2,
       "version_minor": 0
      },
      "text/plain": [
       "EPOCH: 33 validation:   0%|          | 0/169 [00:00<?, ?it/s]"
      ]
     },
     "metadata": {},
     "output_type": "display_data"
    },
    {
     "name": "stdout",
     "output_type": "stream",
     "text": [
      "Train Loss: 0.8789 \tTrain Acc: 0.6962 \tVal Loss: 1.0107 \tVal Acc: 0.6549\n"
     ]
    },
    {
     "data": {
      "application/vnd.jupyter.widget-view+json": {
       "model_id": "6b7e652c88e74609ad6bbd0edede2169",
       "version_major": 2,
       "version_minor": 0
      },
      "text/plain": [
       "\n",
       "EPOCH: 34 training:   0%|          | 0/956 [00:00<?, ?it/s]"
      ]
     },
     "metadata": {},
     "output_type": "display_data"
    },
    {
     "data": {
      "application/vnd.jupyter.widget-view+json": {
       "model_id": "828ddf6db91a497fa3f3c0a69f2c4b6c",
       "version_major": 2,
       "version_minor": 0
      },
      "text/plain": [
       "EPOCH: 34 validation:   0%|          | 0/169 [00:00<?, ?it/s]"
      ]
     },
     "metadata": {},
     "output_type": "display_data"
    },
    {
     "name": "stdout",
     "output_type": "stream",
     "text": [
      "Train Loss: 0.8500 \tTrain Acc: 0.7053 \tVal Loss: 1.0164 \tVal Acc: 0.6532\n"
     ]
    },
    {
     "data": {
      "application/vnd.jupyter.widget-view+json": {
       "model_id": "6c9c1e8f8d7c4a5f9a4783e9dbd21fef",
       "version_major": 2,
       "version_minor": 0
      },
      "text/plain": [
       "\n",
       "EPOCH: 35 training:   0%|          | 0/956 [00:00<?, ?it/s]"
      ]
     },
     "metadata": {},
     "output_type": "display_data"
    },
    {
     "data": {
      "application/vnd.jupyter.widget-view+json": {
       "model_id": "964125c5d820490791200d4169a63731",
       "version_major": 2,
       "version_minor": 0
      },
      "text/plain": [
       "EPOCH: 35 validation:   0%|          | 0/169 [00:00<?, ?it/s]"
      ]
     },
     "metadata": {},
     "output_type": "display_data"
    },
    {
     "name": "stdout",
     "output_type": "stream",
     "text": [
      "Train Loss: 0.8460 \tTrain Acc: 0.7059 \tVal Loss: 1.0100 \tVal Acc: 0.6542\n"
     ]
    },
    {
     "data": {
      "application/vnd.jupyter.widget-view+json": {
       "model_id": "581c53b3f5c84e5eabb539a226584e44",
       "version_major": 2,
       "version_minor": 0
      },
      "text/plain": [
       "\n",
       "EPOCH: 36 training:   0%|          | 0/956 [00:00<?, ?it/s]"
      ]
     },
     "metadata": {},
     "output_type": "display_data"
    },
    {
     "data": {
      "application/vnd.jupyter.widget-view+json": {
       "model_id": "414ba80ed3e34c8e850f8ebc833d98ac",
       "version_major": 2,
       "version_minor": 0
      },
      "text/plain": [
       "EPOCH: 36 validation:   0%|          | 0/169 [00:00<?, ?it/s]"
      ]
     },
     "metadata": {},
     "output_type": "display_data"
    },
    {
     "name": "stdout",
     "output_type": "stream",
     "text": [
      "Train Loss: 0.8404 \tTrain Acc: 0.7075 \tVal Loss: 1.0331 \tVal Acc: 0.6533\n"
     ]
    },
    {
     "data": {
      "application/vnd.jupyter.widget-view+json": {
       "model_id": "cdf0e627d37c4714ad9ad66377a57195",
       "version_major": 2,
       "version_minor": 0
      },
      "text/plain": [
       "\n",
       "EPOCH: 37 training:   0%|          | 0/956 [00:00<?, ?it/s]"
      ]
     },
     "metadata": {},
     "output_type": "display_data"
    },
    {
     "data": {
      "application/vnd.jupyter.widget-view+json": {
       "model_id": "772b2e7ff2b64826843fe8256d294e31",
       "version_major": 2,
       "version_minor": 0
      },
      "text/plain": [
       "EPOCH: 37 validation:   0%|          | 0/169 [00:00<?, ?it/s]"
      ]
     },
     "metadata": {},
     "output_type": "display_data"
    },
    {
     "name": "stdout",
     "output_type": "stream",
     "text": [
      "Train Loss: 0.8353 \tTrain Acc: 0.7091 \tVal Loss: 1.0122 \tVal Acc: 0.6589\n"
     ]
    },
    {
     "data": {
      "application/vnd.jupyter.widget-view+json": {
       "model_id": "1b7884f645944b81b250bf9caea3eaa6",
       "version_major": 2,
       "version_minor": 0
      },
      "text/plain": [
       "\n",
       "EPOCH: 38 training:   0%|          | 0/956 [00:00<?, ?it/s]"
      ]
     },
     "metadata": {},
     "output_type": "display_data"
    },
    {
     "data": {
      "application/vnd.jupyter.widget-view+json": {
       "model_id": "551e3e314fc241c9b12809f40fc98009",
       "version_major": 2,
       "version_minor": 0
      },
      "text/plain": [
       "EPOCH: 38 validation:   0%|          | 0/169 [00:00<?, ?it/s]"
      ]
     },
     "metadata": {},
     "output_type": "display_data"
    },
    {
     "name": "stdout",
     "output_type": "stream",
     "text": [
      "Train Loss: 0.8188 \tTrain Acc: 0.7151 \tVal Loss: 1.0103 \tVal Acc: 0.6613\n"
     ]
    },
    {
     "data": {
      "application/vnd.jupyter.widget-view+json": {
       "model_id": "79cc9188032c4aed9cb6490f2c2b97c2",
       "version_major": 2,
       "version_minor": 0
      },
      "text/plain": [
       "\n",
       "EPOCH: 39 training:   0%|          | 0/956 [00:00<?, ?it/s]"
      ]
     },
     "metadata": {},
     "output_type": "display_data"
    },
    {
     "data": {
      "application/vnd.jupyter.widget-view+json": {
       "model_id": "12484141c51f4bf3b27aa2c00a7d2aa5",
       "version_major": 2,
       "version_minor": 0
      },
      "text/plain": [
       "EPOCH: 39 validation:   0%|          | 0/169 [00:00<?, ?it/s]"
      ]
     },
     "metadata": {},
     "output_type": "display_data"
    },
    {
     "name": "stdout",
     "output_type": "stream",
     "text": [
      "Train Loss: 0.8120 \tTrain Acc: 0.7175 \tVal Loss: 1.0247 \tVal Acc: 0.6547\n"
     ]
    },
    {
     "data": {
      "application/vnd.jupyter.widget-view+json": {
       "model_id": "068a32aafa3e411cb5955e0d1ccda709",
       "version_major": 2,
       "version_minor": 0
      },
      "text/plain": [
       "\n",
       "EPOCH: 40 training:   0%|          | 0/956 [00:00<?, ?it/s]"
      ]
     },
     "metadata": {},
     "output_type": "display_data"
    },
    {
     "data": {
      "application/vnd.jupyter.widget-view+json": {
       "model_id": "c7c3f1b87f8e40da8eadbad3c3cadbc8",
       "version_major": 2,
       "version_minor": 0
      },
      "text/plain": [
       "EPOCH: 40 validation:   0%|          | 0/169 [00:00<?, ?it/s]"
      ]
     },
     "metadata": {},
     "output_type": "display_data"
    },
    {
     "name": "stdout",
     "output_type": "stream",
     "text": [
      "Train Loss: 0.8023 \tTrain Acc: 0.7201 \tVal Loss: 0.9960 \tVal Acc: 0.6633\n",
      "\n",
      "Val loss decreased (1.0055 -> 0.9960), Model saved\n"
     ]
    },
    {
     "data": {
      "application/vnd.jupyter.widget-view+json": {
       "model_id": "93e0fa9a83a64acb925cc5e66a7b4a8c",
       "version_major": 2,
       "version_minor": 0
      },
      "text/plain": [
       "\n",
       "EPOCH: 41 training:   0%|          | 0/956 [00:00<?, ?it/s]"
      ]
     },
     "metadata": {},
     "output_type": "display_data"
    },
    {
     "data": {
      "application/vnd.jupyter.widget-view+json": {
       "model_id": "54b7fae5d8bb4c6eb1272e63966764bb",
       "version_major": 2,
       "version_minor": 0
      },
      "text/plain": [
       "EPOCH: 41 validation:   0%|          | 0/169 [00:00<?, ?it/s]"
      ]
     },
     "metadata": {},
     "output_type": "display_data"
    },
    {
     "name": "stdout",
     "output_type": "stream",
     "text": [
      "Train Loss: 0.7950 \tTrain Acc: 0.7235 \tVal Loss: 1.0093 \tVal Acc: 0.6563\n"
     ]
    },
    {
     "data": {
      "application/vnd.jupyter.widget-view+json": {
       "model_id": "672cd6e21ce446d3a1fc52a1914387f5",
       "version_major": 2,
       "version_minor": 0
      },
      "text/plain": [
       "\n",
       "EPOCH: 42 training:   0%|          | 0/956 [00:00<?, ?it/s]"
      ]
     },
     "metadata": {},
     "output_type": "display_data"
    },
    {
     "data": {
      "application/vnd.jupyter.widget-view+json": {
       "model_id": "f7a31881240643f49ed8fe1c64e10970",
       "version_major": 2,
       "version_minor": 0
      },
      "text/plain": [
       "EPOCH: 42 validation:   0%|          | 0/169 [00:00<?, ?it/s]"
      ]
     },
     "metadata": {},
     "output_type": "display_data"
    },
    {
     "name": "stdout",
     "output_type": "stream",
     "text": [
      "Train Loss: 0.7967 \tTrain Acc: 0.7232 \tVal Loss: 1.0185 \tVal Acc: 0.6577\n"
     ]
    },
    {
     "data": {
      "application/vnd.jupyter.widget-view+json": {
       "model_id": "3cb25c45842f4afe930c220222ed5101",
       "version_major": 2,
       "version_minor": 0
      },
      "text/plain": [
       "\n",
       "EPOCH: 43 training:   0%|          | 0/956 [00:00<?, ?it/s]"
      ]
     },
     "metadata": {},
     "output_type": "display_data"
    },
    {
     "data": {
      "application/vnd.jupyter.widget-view+json": {
       "model_id": "57df732c4b684a73a059cd2a2ded2c2e",
       "version_major": 2,
       "version_minor": 0
      },
      "text/plain": [
       "EPOCH: 43 validation:   0%|          | 0/169 [00:00<?, ?it/s]"
      ]
     },
     "metadata": {},
     "output_type": "display_data"
    },
    {
     "name": "stdout",
     "output_type": "stream",
     "text": [
      "Train Loss: 0.7821 \tTrain Acc: 0.7270 \tVal Loss: 0.9845 \tVal Acc: 0.6713\n",
      "\n",
      "Val loss decreased (0.9960 -> 0.9845), Model saved\n"
     ]
    },
    {
     "data": {
      "application/vnd.jupyter.widget-view+json": {
       "model_id": "c5b6ed82968340b19047c37041634d47",
       "version_major": 2,
       "version_minor": 0
      },
      "text/plain": [
       "\n",
       "EPOCH: 44 training:   0%|          | 0/956 [00:00<?, ?it/s]"
      ]
     },
     "metadata": {},
     "output_type": "display_data"
    },
    {
     "data": {
      "application/vnd.jupyter.widget-view+json": {
       "model_id": "fc3a59e1067c4af89711958f0f5010c1",
       "version_major": 2,
       "version_minor": 0
      },
      "text/plain": [
       "EPOCH: 44 validation:   0%|          | 0/169 [00:00<?, ?it/s]"
      ]
     },
     "metadata": {},
     "output_type": "display_data"
    },
    {
     "name": "stdout",
     "output_type": "stream",
     "text": [
      "Train Loss: 0.7699 \tTrain Acc: 0.7314 \tVal Loss: 0.9739 \tVal Acc: 0.6728\n",
      "\n",
      "Val loss decreased (0.9845 -> 0.9739), Model saved\n"
     ]
    },
    {
     "data": {
      "application/vnd.jupyter.widget-view+json": {
       "model_id": "b55169071d5645478587cfd66fca6682",
       "version_major": 2,
       "version_minor": 0
      },
      "text/plain": [
       "\n",
       "EPOCH: 45 training:   0%|          | 0/956 [00:00<?, ?it/s]"
      ]
     },
     "metadata": {},
     "output_type": "display_data"
    },
    {
     "data": {
      "application/vnd.jupyter.widget-view+json": {
       "model_id": "2c4a4077a1b94d3b98eab580119e6594",
       "version_major": 2,
       "version_minor": 0
      },
      "text/plain": [
       "EPOCH: 45 validation:   0%|          | 0/169 [00:00<?, ?it/s]"
      ]
     },
     "metadata": {},
     "output_type": "display_data"
    },
    {
     "name": "stdout",
     "output_type": "stream",
     "text": [
      "Train Loss: 0.7650 \tTrain Acc: 0.7323 \tVal Loss: 0.9574 \tVal Acc: 0.6760\n",
      "\n",
      "Val loss decreased (0.9739 -> 0.9574), Model saved\n"
     ]
    },
    {
     "data": {
      "application/vnd.jupyter.widget-view+json": {
       "model_id": "84b42bc91ab344c49dc30f0f8f45569b",
       "version_major": 2,
       "version_minor": 0
      },
      "text/plain": [
       "\n",
       "EPOCH: 46 training:   0%|          | 0/956 [00:00<?, ?it/s]"
      ]
     },
     "metadata": {},
     "output_type": "display_data"
    },
    {
     "data": {
      "application/vnd.jupyter.widget-view+json": {
       "model_id": "a7fbd13e49744cbb94424ac68f9c8920",
       "version_major": 2,
       "version_minor": 0
      },
      "text/plain": [
       "EPOCH: 46 validation:   0%|          | 0/169 [00:00<?, ?it/s]"
      ]
     },
     "metadata": {},
     "output_type": "display_data"
    },
    {
     "name": "stdout",
     "output_type": "stream",
     "text": [
      "Train Loss: 0.7569 \tTrain Acc: 0.7337 \tVal Loss: 0.9706 \tVal Acc: 0.6697\n"
     ]
    },
    {
     "data": {
      "application/vnd.jupyter.widget-view+json": {
       "model_id": "aebbe1665863499fb6fb6e9be4fc651b",
       "version_major": 2,
       "version_minor": 0
      },
      "text/plain": [
       "\n",
       "EPOCH: 47 training:   0%|          | 0/956 [00:00<?, ?it/s]"
      ]
     },
     "metadata": {},
     "output_type": "display_data"
    },
    {
     "data": {
      "application/vnd.jupyter.widget-view+json": {
       "model_id": "44ac21e84cc4483cabfb5d71d97124e1",
       "version_major": 2,
       "version_minor": 0
      },
      "text/plain": [
       "EPOCH: 47 validation:   0%|          | 0/169 [00:00<?, ?it/s]"
      ]
     },
     "metadata": {},
     "output_type": "display_data"
    },
    {
     "name": "stdout",
     "output_type": "stream",
     "text": [
      "Train Loss: 0.7443 \tTrain Acc: 0.7396 \tVal Loss: 0.9742 \tVal Acc: 0.6742\n"
     ]
    },
    {
     "data": {
      "application/vnd.jupyter.widget-view+json": {
       "model_id": "e923b2a91cce4fa1a7483f96f51c96ec",
       "version_major": 2,
       "version_minor": 0
      },
      "text/plain": [
       "\n",
       "EPOCH: 48 training:   0%|          | 0/956 [00:00<?, ?it/s]"
      ]
     },
     "metadata": {},
     "output_type": "display_data"
    },
    {
     "data": {
      "application/vnd.jupyter.widget-view+json": {
       "model_id": "0f0f9444d73b4cf8addaaa19248c3053",
       "version_major": 2,
       "version_minor": 0
      },
      "text/plain": [
       "EPOCH: 48 validation:   0%|          | 0/169 [00:00<?, ?it/s]"
      ]
     },
     "metadata": {},
     "output_type": "display_data"
    },
    {
     "name": "stdout",
     "output_type": "stream",
     "text": [
      "Train Loss: 0.7338 \tTrain Acc: 0.7437 \tVal Loss: 0.9499 \tVal Acc: 0.6785\n",
      "\n",
      "Val loss decreased (0.9574 -> 0.9499), Model saved\n"
     ]
    },
    {
     "data": {
      "application/vnd.jupyter.widget-view+json": {
       "model_id": "ebbfa54768b94ab686b89bd06fa9f155",
       "version_major": 2,
       "version_minor": 0
      },
      "text/plain": [
       "\n",
       "EPOCH: 49 training:   0%|          | 0/956 [00:00<?, ?it/s]"
      ]
     },
     "metadata": {},
     "output_type": "display_data"
    }
   ],
   "source": [
    "if model_option == 2:\n",
    "    model, History = cnn_lstm.start_training()\n",
    "\n",
    "elif model_option == 3:\n",
    "    model, History = cnn_transformer_v3.start_training()\n",
    "    \n",
    "elif model_option == 4:\n",
    "    model, History = cnn_patch_transformer.start_training()"
   ]
  },
  {
   "cell_type": "code",
   "execution_count": null,
   "id": "cb9c1a8f",
   "metadata": {},
   "outputs": [],
   "source": []
  }
 ],
 "metadata": {
  "kernelspec": {
   "display_name": "Python 3 (ipykernel)",
   "language": "python",
   "name": "python3"
  },
  "language_info": {
   "codemirror_mode": {
    "name": "ipython",
    "version": 3
   },
   "file_extension": ".py",
   "mimetype": "text/x-python",
   "name": "python",
   "nbconvert_exporter": "python",
   "pygments_lexer": "ipython3",
   "version": "3.8.12"
  }
 },
 "nbformat": 4,
 "nbformat_minor": 5
}
