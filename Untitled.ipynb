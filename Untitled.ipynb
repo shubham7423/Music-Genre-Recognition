{
 "cells": [
  {
   "cell_type": "markdown",
   "id": "f8466dca",
   "metadata": {},
   "source": [
    "# Train"
   ]
  },
  {
   "cell_type": "code",
   "execution_count": 1,
   "id": "95abb43e",
   "metadata": {},
   "outputs": [],
   "source": [
    "import mgr.train.transformer.cnn_transformer_v3 as cnn_transformer_v3\n",
    "import mgr.train.transformer.cnn_patch_transformer as cnn_patch_transformer\n",
    "\n",
    "import mgr.train.lstm.cnn_lstm as cnn_lstm"
   ]
  },
  {
   "cell_type": "markdown",
   "id": "4db898b6",
   "metadata": {},
   "source": [
    "# Select model to train\n",
    "\n",
    "1.CNN <br>\n",
    "2.CNN+LSTM <br>\n",
    "3.CNN+Transformer <br>\n",
    "4.CNN+Transformer(Patched)"
   ]
  },
  {
   "cell_type": "code",
   "execution_count": 2,
   "id": "926c0957",
   "metadata": {},
   "outputs": [
    {
     "name": "stdout",
     "output_type": "stream",
     "text": [
      "Enter choice(i.e. 1, 2, 3, 4): 2\n"
     ]
    }
   ],
   "source": [
    "model_option = int(input(\"Enter choice(i.e. 1, 2, 3, 4): \"))"
   ]
  },
  {
   "cell_type": "code",
   "execution_count": null,
   "id": "0180d177",
   "metadata": {},
   "outputs": [
    {
     "name": "stderr",
     "output_type": "stream",
     "text": [
      "C:\\Users\\p_hubham\\Documents\\GitHub\\Music-Genre-Recognition\\mgr\\configuration\\load.py:12: YAMLLoadWarning: calling yaml.load() without Loader=... is deprecated, as the default Loader is unsafe. Please read https://msg.pyyaml.org/load for full details.\n",
      "  return yaml.load(file)\n"
     ]
    },
    {
     "name": "stdout",
     "output_type": "stream",
     "text": [
      "torch.Size([71973, 1, 128, 94]) (71973,)\n",
      "=> Training on cuda\n"
     ]
    },
    {
     "data": {
      "application/vnd.jupyter.widget-view+json": {
       "model_id": "14d40d8433ac4ec09a95be7088a13a72",
       "version_major": 2,
       "version_minor": 0
      },
      "text/plain": [
       "\n",
       "EPOCH: 1 training:   0%|          | 0/956 [00:00<?, ?it/s]"
      ]
     },
     "metadata": {},
     "output_type": "display_data"
    },
    {
     "data": {
      "application/vnd.jupyter.widget-view+json": {
       "model_id": "1f23a3b3ec584450b6badc768eda365c",
       "version_major": 2,
       "version_minor": 0
      },
      "text/plain": [
       "EPOCH: 1 validation:   0%|          | 0/169 [00:00<?, ?it/s]"
      ]
     },
     "metadata": {},
     "output_type": "display_data"
    },
    {
     "name": "stdout",
     "output_type": "stream",
     "text": [
      "Train Loss: 1.7064 \tTrain Acc: 0.3622 \tVal Loss: 1.6515 \tVal Acc: 0.3958\n",
      "\n",
      "Val loss decreased (inf -> 1.6515), Model saved\n"
     ]
    },
    {
     "data": {
      "application/vnd.jupyter.widget-view+json": {
       "model_id": "e98c956cd88d40d0a39f41739c57fa87",
       "version_major": 2,
       "version_minor": 0
      },
      "text/plain": [
       "\n",
       "EPOCH: 2 training:   0%|          | 0/956 [00:00<?, ?it/s]"
      ]
     },
     "metadata": {},
     "output_type": "display_data"
    },
    {
     "data": {
      "application/vnd.jupyter.widget-view+json": {
       "model_id": "dc06e0dcc0c648c199eac0d01a03599b",
       "version_major": 2,
       "version_minor": 0
      },
      "text/plain": [
       "EPOCH: 2 validation:   0%|          | 0/169 [00:00<?, ?it/s]"
      ]
     },
     "metadata": {},
     "output_type": "display_data"
    },
    {
     "name": "stdout",
     "output_type": "stream",
     "text": [
      "Train Loss: 1.4980 \tTrain Acc: 0.4703 \tVal Loss: 1.4659 \tVal Acc: 0.4785\n",
      "\n",
      "Val loss decreased (1.6515 -> 1.4659), Model saved\n"
     ]
    },
    {
     "data": {
      "application/vnd.jupyter.widget-view+json": {
       "model_id": "077656a562b74b968da900ddc2cc348c",
       "version_major": 2,
       "version_minor": 0
      },
      "text/plain": [
       "\n",
       "EPOCH: 3 training:   0%|          | 0/956 [00:00<?, ?it/s]"
      ]
     },
     "metadata": {},
     "output_type": "display_data"
    },
    {
     "data": {
      "application/vnd.jupyter.widget-view+json": {
       "model_id": "bf5a4738c1d24a999f75fa8b81c69be6",
       "version_major": 2,
       "version_minor": 0
      },
      "text/plain": [
       "EPOCH: 3 validation:   0%|          | 0/169 [00:00<?, ?it/s]"
      ]
     },
     "metadata": {},
     "output_type": "display_data"
    },
    {
     "name": "stdout",
     "output_type": "stream",
     "text": [
      "Train Loss: 1.3837 \tTrain Acc: 0.5199 \tVal Loss: 1.3439 \tVal Acc: 0.5347\n",
      "\n",
      "Val loss decreased (1.4659 -> 1.3439), Model saved\n"
     ]
    },
    {
     "data": {
      "application/vnd.jupyter.widget-view+json": {
       "model_id": "bb43cca2906942c99572717f3e93ab93",
       "version_major": 2,
       "version_minor": 0
      },
      "text/plain": [
       "\n",
       "EPOCH: 4 training:   0%|          | 0/956 [00:00<?, ?it/s]"
      ]
     },
     "metadata": {},
     "output_type": "display_data"
    },
    {
     "data": {
      "application/vnd.jupyter.widget-view+json": {
       "model_id": "d2beb0e03cb14b7c917adbb9702a72b2",
       "version_major": 2,
       "version_minor": 0
      },
      "text/plain": [
       "EPOCH: 4 validation:   0%|          | 0/169 [00:00<?, ?it/s]"
      ]
     },
     "metadata": {},
     "output_type": "display_data"
    },
    {
     "name": "stdout",
     "output_type": "stream",
     "text": [
      "Train Loss: 1.3176 \tTrain Acc: 0.5485 \tVal Loss: 1.3017 \tVal Acc: 0.5526\n",
      "\n",
      "Val loss decreased (1.3439 -> 1.3017), Model saved\n"
     ]
    },
    {
     "data": {
      "application/vnd.jupyter.widget-view+json": {
       "model_id": "b4946e87d815430bb08dbf1d8efc2c01",
       "version_major": 2,
       "version_minor": 0
      },
      "text/plain": [
       "\n",
       "EPOCH: 5 training:   0%|          | 0/956 [00:00<?, ?it/s]"
      ]
     },
     "metadata": {},
     "output_type": "display_data"
    },
    {
     "data": {
      "application/vnd.jupyter.widget-view+json": {
       "model_id": "23c2559a2c2847f39486968ba38b8a06",
       "version_major": 2,
       "version_minor": 0
      },
      "text/plain": [
       "EPOCH: 5 validation:   0%|          | 0/169 [00:00<?, ?it/s]"
      ]
     },
     "metadata": {},
     "output_type": "display_data"
    },
    {
     "name": "stdout",
     "output_type": "stream",
     "text": [
      "Train Loss: 1.2648 \tTrain Acc: 0.5673 \tVal Loss: 1.2561 \tVal Acc: 0.5715\n",
      "\n",
      "Val loss decreased (1.3017 -> 1.2561), Model saved\n"
     ]
    },
    {
     "data": {
      "application/vnd.jupyter.widget-view+json": {
       "model_id": "c4034a0899a246278904639d7510e13e",
       "version_major": 2,
       "version_minor": 0
      },
      "text/plain": [
       "\n",
       "EPOCH: 6 training:   0%|          | 0/956 [00:00<?, ?it/s]"
      ]
     },
     "metadata": {},
     "output_type": "display_data"
    },
    {
     "data": {
      "application/vnd.jupyter.widget-view+json": {
       "model_id": "63d0f52b20244402b25f467011bb686d",
       "version_major": 2,
       "version_minor": 0
      },
      "text/plain": [
       "EPOCH: 6 validation:   0%|          | 0/169 [00:00<?, ?it/s]"
      ]
     },
     "metadata": {},
     "output_type": "display_data"
    },
    {
     "name": "stdout",
     "output_type": "stream",
     "text": [
      "Train Loss: 1.2203 \tTrain Acc: 0.5831 \tVal Loss: 1.1903 \tVal Acc: 0.5936\n",
      "\n",
      "Val loss decreased (1.2561 -> 1.1903), Model saved\n"
     ]
    },
    {
     "data": {
      "application/vnd.jupyter.widget-view+json": {
       "model_id": "292b79862818478b8612544060422c69",
       "version_major": 2,
       "version_minor": 0
      },
      "text/plain": [
       "\n",
       "EPOCH: 7 training:   0%|          | 0/956 [00:00<?, ?it/s]"
      ]
     },
     "metadata": {},
     "output_type": "display_data"
    },
    {
     "data": {
      "application/vnd.jupyter.widget-view+json": {
       "model_id": "75799d12f65b4235a7a4ad75a6fc97e3",
       "version_major": 2,
       "version_minor": 0
      },
      "text/plain": [
       "EPOCH: 7 validation:   0%|          | 0/169 [00:00<?, ?it/s]"
      ]
     },
     "metadata": {},
     "output_type": "display_data"
    },
    {
     "name": "stdout",
     "output_type": "stream",
     "text": [
      "Train Loss: 1.1848 \tTrain Acc: 0.5955 \tVal Loss: 1.1931 \tVal Acc: 0.5838\n"
     ]
    },
    {
     "data": {
      "application/vnd.jupyter.widget-view+json": {
       "model_id": "9b3066732f8a473482b8133603907838",
       "version_major": 2,
       "version_minor": 0
      },
      "text/plain": [
       "\n",
       "EPOCH: 8 training:   0%|          | 0/956 [00:00<?, ?it/s]"
      ]
     },
     "metadata": {},
     "output_type": "display_data"
    },
    {
     "data": {
      "application/vnd.jupyter.widget-view+json": {
       "model_id": "00af9d169ee444e6a7e87d8d1976f22c",
       "version_major": 2,
       "version_minor": 0
      },
      "text/plain": [
       "EPOCH: 8 validation:   0%|          | 0/169 [00:00<?, ?it/s]"
      ]
     },
     "metadata": {},
     "output_type": "display_data"
    },
    {
     "name": "stdout",
     "output_type": "stream",
     "text": [
      "Train Loss: 1.1636 \tTrain Acc: 0.6026 \tVal Loss: 1.1704 \tVal Acc: 0.5975\n",
      "\n",
      "Val loss decreased (1.1903 -> 1.1704), Model saved\n"
     ]
    },
    {
     "data": {
      "application/vnd.jupyter.widget-view+json": {
       "model_id": "1675cd11b5434d91852f38f51dadbc40",
       "version_major": 2,
       "version_minor": 0
      },
      "text/plain": [
       "\n",
       "EPOCH: 9 training:   0%|          | 0/956 [00:00<?, ?it/s]"
      ]
     },
     "metadata": {},
     "output_type": "display_data"
    },
    {
     "data": {
      "application/vnd.jupyter.widget-view+json": {
       "model_id": "8a9bbf1c507a471bafae426b7695ead3",
       "version_major": 2,
       "version_minor": 0
      },
      "text/plain": [
       "EPOCH: 9 validation:   0%|          | 0/169 [00:00<?, ?it/s]"
      ]
     },
     "metadata": {},
     "output_type": "display_data"
    },
    {
     "name": "stdout",
     "output_type": "stream",
     "text": [
      "Train Loss: 1.1298 \tTrain Acc: 0.6129 \tVal Loss: 1.1333 \tVal Acc: 0.6143\n",
      "\n",
      "Val loss decreased (1.1704 -> 1.1333), Model saved\n"
     ]
    },
    {
     "data": {
      "application/vnd.jupyter.widget-view+json": {
       "model_id": "62e92b9c3dd041818259d0f13d1b6185",
       "version_major": 2,
       "version_minor": 0
      },
      "text/plain": [
       "\n",
       "EPOCH: 10 training:   0%|          | 0/956 [00:00<?, ?it/s]"
      ]
     },
     "metadata": {},
     "output_type": "display_data"
    },
    {
     "data": {
      "application/vnd.jupyter.widget-view+json": {
       "model_id": "49b348d0e92749f3ae7c5ae5bfe4ec7b",
       "version_major": 2,
       "version_minor": 0
      },
      "text/plain": [
       "EPOCH: 10 validation:   0%|          | 0/169 [00:00<?, ?it/s]"
      ]
     },
     "metadata": {},
     "output_type": "display_data"
    },
    {
     "name": "stdout",
     "output_type": "stream",
     "text": [
      "Train Loss: 1.1086 \tTrain Acc: 0.6228 \tVal Loss: 1.1204 \tVal Acc: 0.6200\n",
      "\n",
      "Val loss decreased (1.1333 -> 1.1204), Model saved\n"
     ]
    },
    {
     "data": {
      "application/vnd.jupyter.widget-view+json": {
       "model_id": "46e43eafa7ed400bb9458c9a7b7cb90d",
       "version_major": 2,
       "version_minor": 0
      },
      "text/plain": [
       "\n",
       "EPOCH: 11 training:   0%|          | 0/956 [00:00<?, ?it/s]"
      ]
     },
     "metadata": {},
     "output_type": "display_data"
    },
    {
     "data": {
      "application/vnd.jupyter.widget-view+json": {
       "model_id": "671b045689b842a9a8772c2a4b606598",
       "version_major": 2,
       "version_minor": 0
      },
      "text/plain": [
       "EPOCH: 11 validation:   0%|          | 0/169 [00:00<?, ?it/s]"
      ]
     },
     "metadata": {},
     "output_type": "display_data"
    },
    {
     "name": "stdout",
     "output_type": "stream",
     "text": [
      "Train Loss: 1.0849 \tTrain Acc: 0.6293 \tVal Loss: 1.1312 \tVal Acc: 0.6179\n"
     ]
    },
    {
     "data": {
      "application/vnd.jupyter.widget-view+json": {
       "model_id": "0bc83cc07d2c45a1a8abdc9d4c324a54",
       "version_major": 2,
       "version_minor": 0
      },
      "text/plain": [
       "\n",
       "EPOCH: 12 training:   0%|          | 0/956 [00:00<?, ?it/s]"
      ]
     },
     "metadata": {},
     "output_type": "display_data"
    },
    {
     "data": {
      "application/vnd.jupyter.widget-view+json": {
       "model_id": "d15d16a546e54b3a837eb91a2befd438",
       "version_major": 2,
       "version_minor": 0
      },
      "text/plain": [
       "EPOCH: 12 validation:   0%|          | 0/169 [00:00<?, ?it/s]"
      ]
     },
     "metadata": {},
     "output_type": "display_data"
    },
    {
     "name": "stdout",
     "output_type": "stream",
     "text": [
      "Train Loss: 1.0568 \tTrain Acc: 0.6356 \tVal Loss: 1.0987 \tVal Acc: 0.6240\n",
      "\n",
      "Val loss decreased (1.1204 -> 1.0987), Model saved\n"
     ]
    },
    {
     "data": {
      "application/vnd.jupyter.widget-view+json": {
       "model_id": "b84d72d9803243cc80adfb6a99750359",
       "version_major": 2,
       "version_minor": 0
      },
      "text/plain": [
       "\n",
       "EPOCH: 13 training:   0%|          | 0/956 [00:00<?, ?it/s]"
      ]
     },
     "metadata": {},
     "output_type": "display_data"
    },
    {
     "data": {
      "application/vnd.jupyter.widget-view+json": {
       "model_id": "35b359254ad74ac2854a2ede8025b305",
       "version_major": 2,
       "version_minor": 0
      },
      "text/plain": [
       "EPOCH: 13 validation:   0%|          | 0/169 [00:00<?, ?it/s]"
      ]
     },
     "metadata": {},
     "output_type": "display_data"
    },
    {
     "name": "stdout",
     "output_type": "stream",
     "text": [
      "Train Loss: 1.0338 \tTrain Acc: 0.6460 \tVal Loss: 1.0861 \tVal Acc: 0.6221\n",
      "\n",
      "Val loss decreased (1.0987 -> 1.0861), Model saved\n"
     ]
    },
    {
     "data": {
      "application/vnd.jupyter.widget-view+json": {
       "model_id": "689f96fbae0540b4b18e3e822ce88364",
       "version_major": 2,
       "version_minor": 0
      },
      "text/plain": [
       "\n",
       "EPOCH: 14 training:   0%|          | 0/956 [00:00<?, ?it/s]"
      ]
     },
     "metadata": {},
     "output_type": "display_data"
    },
    {
     "data": {
      "application/vnd.jupyter.widget-view+json": {
       "model_id": "fe01d707fa364e1794ae1cff1f563a6e",
       "version_major": 2,
       "version_minor": 0
      },
      "text/plain": [
       "EPOCH: 14 validation:   0%|          | 0/169 [00:00<?, ?it/s]"
      ]
     },
     "metadata": {},
     "output_type": "display_data"
    },
    {
     "name": "stdout",
     "output_type": "stream",
     "text": [
      "Train Loss: 1.0171 \tTrain Acc: 0.6514 \tVal Loss: 1.0897 \tVal Acc: 0.6341\n"
     ]
    },
    {
     "data": {
      "application/vnd.jupyter.widget-view+json": {
       "model_id": "dcee76b828d8434d9341f132b9388b99",
       "version_major": 2,
       "version_minor": 0
      },
      "text/plain": [
       "\n",
       "EPOCH: 15 training:   0%|          | 0/956 [00:00<?, ?it/s]"
      ]
     },
     "metadata": {},
     "output_type": "display_data"
    },
    {
     "data": {
      "application/vnd.jupyter.widget-view+json": {
       "model_id": "98e16c7f15af42a0bbcf342543356803",
       "version_major": 2,
       "version_minor": 0
      },
      "text/plain": [
       "EPOCH: 15 validation:   0%|          | 0/169 [00:00<?, ?it/s]"
      ]
     },
     "metadata": {},
     "output_type": "display_data"
    },
    {
     "name": "stdout",
     "output_type": "stream",
     "text": [
      "Train Loss: 0.9916 \tTrain Acc: 0.6598 \tVal Loss: 1.0205 \tVal Acc: 0.6480\n",
      "\n",
      "Val loss decreased (1.0861 -> 1.0205), Model saved\n"
     ]
    },
    {
     "data": {
      "application/vnd.jupyter.widget-view+json": {
       "model_id": "d78e7456ec7f44d08613b3e1c7c90004",
       "version_major": 2,
       "version_minor": 0
      },
      "text/plain": [
       "\n",
       "EPOCH: 16 training:   0%|          | 0/956 [00:00<?, ?it/s]"
      ]
     },
     "metadata": {},
     "output_type": "display_data"
    },
    {
     "data": {
      "application/vnd.jupyter.widget-view+json": {
       "model_id": "8563ae31e2cf47c7943a2bc346097db7",
       "version_major": 2,
       "version_minor": 0
      },
      "text/plain": [
       "EPOCH: 16 validation:   0%|          | 0/169 [00:00<?, ?it/s]"
      ]
     },
     "metadata": {},
     "output_type": "display_data"
    },
    {
     "name": "stdout",
     "output_type": "stream",
     "text": [
      "Train Loss: 0.9683 \tTrain Acc: 0.6672 \tVal Loss: 1.0622 \tVal Acc: 0.6413\n"
     ]
    },
    {
     "data": {
      "application/vnd.jupyter.widget-view+json": {
       "model_id": "66ebe473b0e243a29d0a9d3046eda6dc",
       "version_major": 2,
       "version_minor": 0
      },
      "text/plain": [
       "\n",
       "EPOCH: 17 training:   0%|          | 0/956 [00:00<?, ?it/s]"
      ]
     },
     "metadata": {},
     "output_type": "display_data"
    },
    {
     "data": {
      "application/vnd.jupyter.widget-view+json": {
       "model_id": "3094fe7fcdf54a599bd01b5a114dc2f2",
       "version_major": 2,
       "version_minor": 0
      },
      "text/plain": [
       "EPOCH: 17 validation:   0%|          | 0/169 [00:00<?, ?it/s]"
      ]
     },
     "metadata": {},
     "output_type": "display_data"
    },
    {
     "name": "stdout",
     "output_type": "stream",
     "text": [
      "Train Loss: 0.9522 \tTrain Acc: 0.6707 \tVal Loss: 1.0589 \tVal Acc: 0.6419\n"
     ]
    },
    {
     "data": {
      "application/vnd.jupyter.widget-view+json": {
       "model_id": "fa4721ac84b14fb99d500a725a696520",
       "version_major": 2,
       "version_minor": 0
      },
      "text/plain": [
       "\n",
       "EPOCH: 18 training:   0%|          | 0/956 [00:00<?, ?it/s]"
      ]
     },
     "metadata": {},
     "output_type": "display_data"
    },
    {
     "data": {
      "application/vnd.jupyter.widget-view+json": {
       "model_id": "d41ce85462cf425aaa365e573eee523d",
       "version_major": 2,
       "version_minor": 0
      },
      "text/plain": [
       "EPOCH: 18 validation:   0%|          | 0/169 [00:00<?, ?it/s]"
      ]
     },
     "metadata": {},
     "output_type": "display_data"
    },
    {
     "name": "stdout",
     "output_type": "stream",
     "text": [
      "Train Loss: 0.9409 \tTrain Acc: 0.6762 \tVal Loss: 1.0491 \tVal Acc: 0.6370\n"
     ]
    },
    {
     "data": {
      "application/vnd.jupyter.widget-view+json": {
       "model_id": "d57c8dfc1a794128a84c4c6ec6c46f92",
       "version_major": 2,
       "version_minor": 0
      },
      "text/plain": [
       "\n",
       "EPOCH: 19 training:   0%|          | 0/956 [00:00<?, ?it/s]"
      ]
     },
     "metadata": {},
     "output_type": "display_data"
    },
    {
     "data": {
      "application/vnd.jupyter.widget-view+json": {
       "model_id": "bb3628ee17b540b8afdc0ccf6c2340b1",
       "version_major": 2,
       "version_minor": 0
      },
      "text/plain": [
       "EPOCH: 19 validation:   0%|          | 0/169 [00:00<?, ?it/s]"
      ]
     },
     "metadata": {},
     "output_type": "display_data"
    },
    {
     "name": "stdout",
     "output_type": "stream",
     "text": [
      "Train Loss: 0.9250 \tTrain Acc: 0.6794 \tVal Loss: 1.0153 \tVal Acc: 0.6538\n",
      "\n",
      "Val loss decreased (1.0205 -> 1.0153), Model saved\n"
     ]
    },
    {
     "data": {
      "application/vnd.jupyter.widget-view+json": {
       "model_id": "bec33d8bcccb4d049cbd4994b60c04c3",
       "version_major": 2,
       "version_minor": 0
      },
      "text/plain": [
       "\n",
       "EPOCH: 20 training:   0%|          | 0/956 [00:00<?, ?it/s]"
      ]
     },
     "metadata": {},
     "output_type": "display_data"
    },
    {
     "data": {
      "application/vnd.jupyter.widget-view+json": {
       "model_id": "d70ac861e62945acb27c36ebb7d0afd1",
       "version_major": 2,
       "version_minor": 0
      },
      "text/plain": [
       "EPOCH: 20 validation:   0%|          | 0/169 [00:00<?, ?it/s]"
      ]
     },
     "metadata": {},
     "output_type": "display_data"
    },
    {
     "name": "stdout",
     "output_type": "stream",
     "text": [
      "Train Loss: 0.9014 \tTrain Acc: 0.6903 \tVal Loss: 1.0386 \tVal Acc: 0.6497\n"
     ]
    },
    {
     "data": {
      "application/vnd.jupyter.widget-view+json": {
       "model_id": "e155cf09b7e64993b044f296e1b2842a",
       "version_major": 2,
       "version_minor": 0
      },
      "text/plain": [
       "\n",
       "EPOCH: 21 training:   0%|          | 0/956 [00:00<?, ?it/s]"
      ]
     },
     "metadata": {},
     "output_type": "display_data"
    },
    {
     "data": {
      "application/vnd.jupyter.widget-view+json": {
       "model_id": "c3cae860d09840e2a6ff74b912947b5d",
       "version_major": 2,
       "version_minor": 0
      },
      "text/plain": [
       "EPOCH: 21 validation:   0%|          | 0/169 [00:00<?, ?it/s]"
      ]
     },
     "metadata": {},
     "output_type": "display_data"
    },
    {
     "name": "stdout",
     "output_type": "stream",
     "text": [
      "Train Loss: 0.8905 \tTrain Acc: 0.6927 \tVal Loss: 1.0044 \tVal Acc: 0.6571\n",
      "\n",
      "Val loss decreased (1.0153 -> 1.0044), Model saved\n"
     ]
    },
    {
     "data": {
      "application/vnd.jupyter.widget-view+json": {
       "model_id": "740329af6a244b689333be07e63e4782",
       "version_major": 2,
       "version_minor": 0
      },
      "text/plain": [
       "\n",
       "EPOCH: 22 training:   0%|          | 0/956 [00:00<?, ?it/s]"
      ]
     },
     "metadata": {},
     "output_type": "display_data"
    },
    {
     "data": {
      "application/vnd.jupyter.widget-view+json": {
       "model_id": "9024b2a2fe504e09a73a93857c88184d",
       "version_major": 2,
       "version_minor": 0
      },
      "text/plain": [
       "EPOCH: 22 validation:   0%|          | 0/169 [00:00<?, ?it/s]"
      ]
     },
     "metadata": {},
     "output_type": "display_data"
    },
    {
     "name": "stdout",
     "output_type": "stream",
     "text": [
      "Train Loss: 0.8796 \tTrain Acc: 0.6947 \tVal Loss: 0.9747 \tVal Acc: 0.6672\n",
      "\n",
      "Val loss decreased (1.0044 -> 0.9747), Model saved\n"
     ]
    },
    {
     "data": {
      "application/vnd.jupyter.widget-view+json": {
       "model_id": "7c780bffc6ef4c45a1d7d8ea65f7527d",
       "version_major": 2,
       "version_minor": 0
      },
      "text/plain": [
       "\n",
       "EPOCH: 23 training:   0%|          | 0/956 [00:00<?, ?it/s]"
      ]
     },
     "metadata": {},
     "output_type": "display_data"
    },
    {
     "data": {
      "application/vnd.jupyter.widget-view+json": {
       "model_id": "134dde7533db4630b5c636dfae2bbdd3",
       "version_major": 2,
       "version_minor": 0
      },
      "text/plain": [
       "EPOCH: 23 validation:   0%|          | 0/169 [00:00<?, ?it/s]"
      ]
     },
     "metadata": {},
     "output_type": "display_data"
    },
    {
     "name": "stdout",
     "output_type": "stream",
     "text": [
      "Train Loss: 0.8766 \tTrain Acc: 0.6980 \tVal Loss: 0.9772 \tVal Acc: 0.6691\n"
     ]
    },
    {
     "data": {
      "application/vnd.jupyter.widget-view+json": {
       "model_id": "8214c5823ca44df6bd3558d2606d1731",
       "version_major": 2,
       "version_minor": 0
      },
      "text/plain": [
       "\n",
       "EPOCH: 24 training:   0%|          | 0/956 [00:00<?, ?it/s]"
      ]
     },
     "metadata": {},
     "output_type": "display_data"
    },
    {
     "data": {
      "application/vnd.jupyter.widget-view+json": {
       "model_id": "5956527d0091488899e7394602030eb7",
       "version_major": 2,
       "version_minor": 0
      },
      "text/plain": [
       "EPOCH: 24 validation:   0%|          | 0/169 [00:00<?, ?it/s]"
      ]
     },
     "metadata": {},
     "output_type": "display_data"
    },
    {
     "name": "stdout",
     "output_type": "stream",
     "text": [
      "Train Loss: 0.8574 \tTrain Acc: 0.7025 \tVal Loss: 0.9856 \tVal Acc: 0.6670\n"
     ]
    },
    {
     "data": {
      "application/vnd.jupyter.widget-view+json": {
       "model_id": "4b9d134d809a4984886efd9147d0a89e",
       "version_major": 2,
       "version_minor": 0
      },
      "text/plain": [
       "\n",
       "EPOCH: 25 training:   0%|          | 0/956 [00:00<?, ?it/s]"
      ]
     },
     "metadata": {},
     "output_type": "display_data"
    },
    {
     "data": {
      "application/vnd.jupyter.widget-view+json": {
       "model_id": "67c831ed6a3e4af4b42ae72014912fad",
       "version_major": 2,
       "version_minor": 0
      },
      "text/plain": [
       "EPOCH: 25 validation:   0%|          | 0/169 [00:00<?, ?it/s]"
      ]
     },
     "metadata": {},
     "output_type": "display_data"
    },
    {
     "name": "stdout",
     "output_type": "stream",
     "text": [
      "Train Loss: 0.8336 \tTrain Acc: 0.7119 \tVal Loss: 0.9770 \tVal Acc: 0.6678\n"
     ]
    },
    {
     "data": {
      "application/vnd.jupyter.widget-view+json": {
       "model_id": "02b3ef1626554d699e114e62fc42461c",
       "version_major": 2,
       "version_minor": 0
      },
      "text/plain": [
       "\n",
       "EPOCH: 26 training:   0%|          | 0/956 [00:00<?, ?it/s]"
      ]
     },
     "metadata": {},
     "output_type": "display_data"
    },
    {
     "data": {
      "application/vnd.jupyter.widget-view+json": {
       "model_id": "46981291ddfd4f9dbe47b6a2ed01a06d",
       "version_major": 2,
       "version_minor": 0
      },
      "text/plain": [
       "EPOCH: 26 validation:   0%|          | 0/169 [00:00<?, ?it/s]"
      ]
     },
     "metadata": {},
     "output_type": "display_data"
    },
    {
     "name": "stdout",
     "output_type": "stream",
     "text": [
      "Train Loss: 0.8222 \tTrain Acc: 0.7149 \tVal Loss: 1.0060 \tVal Acc: 0.6625\n"
     ]
    },
    {
     "data": {
      "application/vnd.jupyter.widget-view+json": {
       "model_id": "577fd1a1a4054dd5bb7c733d6d6ba292",
       "version_major": 2,
       "version_minor": 0
      },
      "text/plain": [
       "\n",
       "EPOCH: 27 training:   0%|          | 0/956 [00:00<?, ?it/s]"
      ]
     },
     "metadata": {},
     "output_type": "display_data"
    },
    {
     "data": {
      "application/vnd.jupyter.widget-view+json": {
       "model_id": "2ebc7e8c590a4087bae2d0cc2e90e6eb",
       "version_major": 2,
       "version_minor": 0
      },
      "text/plain": [
       "EPOCH: 27 validation:   0%|          | 0/169 [00:00<?, ?it/s]"
      ]
     },
     "metadata": {},
     "output_type": "display_data"
    },
    {
     "name": "stdout",
     "output_type": "stream",
     "text": [
      "Train Loss: 0.8234 \tTrain Acc: 0.7131 \tVal Loss: 0.9862 \tVal Acc: 0.6737\n"
     ]
    },
    {
     "data": {
      "application/vnd.jupyter.widget-view+json": {
       "model_id": "9f2da2eab995458da1469b7d51a5d7bc",
       "version_major": 2,
       "version_minor": 0
      },
      "text/plain": [
       "\n",
       "EPOCH: 28 training:   0%|          | 0/956 [00:00<?, ?it/s]"
      ]
     },
     "metadata": {},
     "output_type": "display_data"
    },
    {
     "data": {
      "application/vnd.jupyter.widget-view+json": {
       "model_id": "5a50d4a7ea264442b5751a1ebc6482eb",
       "version_major": 2,
       "version_minor": 0
      },
      "text/plain": [
       "EPOCH: 28 validation:   0%|          | 0/169 [00:00<?, ?it/s]"
      ]
     },
     "metadata": {},
     "output_type": "display_data"
    },
    {
     "name": "stdout",
     "output_type": "stream",
     "text": [
      "Train Loss: 0.8007 \tTrain Acc: 0.7214 \tVal Loss: 0.9795 \tVal Acc: 0.6675\n"
     ]
    },
    {
     "data": {
      "application/vnd.jupyter.widget-view+json": {
       "model_id": "f7af9adce8ea47839808434be8a9632e",
       "version_major": 2,
       "version_minor": 0
      },
      "text/plain": [
       "\n",
       "EPOCH: 29 training:   0%|          | 0/956 [00:00<?, ?it/s]"
      ]
     },
     "metadata": {},
     "output_type": "display_data"
    },
    {
     "data": {
      "application/vnd.jupyter.widget-view+json": {
       "model_id": "252c61918c8949a3bacfce7e5df99983",
       "version_major": 2,
       "version_minor": 0
      },
      "text/plain": [
       "EPOCH: 29 validation:   0%|          | 0/169 [00:00<?, ?it/s]"
      ]
     },
     "metadata": {},
     "output_type": "display_data"
    },
    {
     "name": "stdout",
     "output_type": "stream",
     "text": [
      "Train Loss: 0.7858 \tTrain Acc: 0.7287 \tVal Loss: 0.9881 \tVal Acc: 0.6685\n"
     ]
    },
    {
     "data": {
      "application/vnd.jupyter.widget-view+json": {
       "model_id": "b5f3feb270ae41dfb9f4b478cfb31788",
       "version_major": 2,
       "version_minor": 0
      },
      "text/plain": [
       "\n",
       "EPOCH: 30 training:   0%|          | 0/956 [00:00<?, ?it/s]"
      ]
     },
     "metadata": {},
     "output_type": "display_data"
    },
    {
     "data": {
      "application/vnd.jupyter.widget-view+json": {
       "model_id": "32ebd949126245508d0aa01df51f4240",
       "version_major": 2,
       "version_minor": 0
      },
      "text/plain": [
       "EPOCH: 30 validation:   0%|          | 0/169 [00:00<?, ?it/s]"
      ]
     },
     "metadata": {},
     "output_type": "display_data"
    },
    {
     "name": "stdout",
     "output_type": "stream",
     "text": [
      "Train Loss: 0.7820 \tTrain Acc: 0.7307 \tVal Loss: 0.9597 \tVal Acc: 0.6802\n",
      "\n",
      "Val loss decreased (0.9747 -> 0.9597), Model saved\n"
     ]
    },
    {
     "data": {
      "application/vnd.jupyter.widget-view+json": {
       "model_id": "7ac0f209fc0c4aea8f18de5a374ec03f",
       "version_major": 2,
       "version_minor": 0
      },
      "text/plain": [
       "\n",
       "EPOCH: 31 training:   0%|          | 0/956 [00:00<?, ?it/s]"
      ]
     },
     "metadata": {},
     "output_type": "display_data"
    },
    {
     "data": {
      "application/vnd.jupyter.widget-view+json": {
       "model_id": "1aa30e6792494869817baf0ce2d13fa2",
       "version_major": 2,
       "version_minor": 0
      },
      "text/plain": [
       "EPOCH: 31 validation:   0%|          | 0/169 [00:00<?, ?it/s]"
      ]
     },
     "metadata": {},
     "output_type": "display_data"
    },
    {
     "name": "stdout",
     "output_type": "stream",
     "text": [
      "Train Loss: 0.7715 \tTrain Acc: 0.7327 \tVal Loss: 0.9378 \tVal Acc: 0.6832\n",
      "\n",
      "Val loss decreased (0.9597 -> 0.9378), Model saved\n"
     ]
    },
    {
     "data": {
      "application/vnd.jupyter.widget-view+json": {
       "model_id": "1eb1e5900cb14280a91587248ca841d0",
       "version_major": 2,
       "version_minor": 0
      },
      "text/plain": [
       "\n",
       "EPOCH: 32 training:   0%|          | 0/956 [00:00<?, ?it/s]"
      ]
     },
     "metadata": {},
     "output_type": "display_data"
    },
    {
     "data": {
      "application/vnd.jupyter.widget-view+json": {
       "model_id": "e86508a8d68a42cf87ab223955b7b631",
       "version_major": 2,
       "version_minor": 0
      },
      "text/plain": [
       "EPOCH: 32 validation:   0%|          | 0/169 [00:00<?, ?it/s]"
      ]
     },
     "metadata": {},
     "output_type": "display_data"
    },
    {
     "name": "stdout",
     "output_type": "stream",
     "text": [
      "Train Loss: 0.7522 \tTrain Acc: 0.7372 \tVal Loss: 0.9222 \tVal Acc: 0.6889\n",
      "\n",
      "Val loss decreased (0.9378 -> 0.9222), Model saved\n"
     ]
    },
    {
     "data": {
      "application/vnd.jupyter.widget-view+json": {
       "model_id": "7681d4cfb3a541fb9293b25da464885b",
       "version_major": 2,
       "version_minor": 0
      },
      "text/plain": [
       "\n",
       "EPOCH: 33 training:   0%|          | 0/956 [00:00<?, ?it/s]"
      ]
     },
     "metadata": {},
     "output_type": "display_data"
    },
    {
     "data": {
      "application/vnd.jupyter.widget-view+json": {
       "model_id": "5c9d5986a34e4a909dbfb0197c005e8f",
       "version_major": 2,
       "version_minor": 0
      },
      "text/plain": [
       "EPOCH: 33 validation:   0%|          | 0/169 [00:00<?, ?it/s]"
      ]
     },
     "metadata": {},
     "output_type": "display_data"
    },
    {
     "name": "stdout",
     "output_type": "stream",
     "text": [
      "Train Loss: 0.7463 \tTrain Acc: 0.7397 \tVal Loss: 0.9296 \tVal Acc: 0.6867\n"
     ]
    },
    {
     "data": {
      "application/vnd.jupyter.widget-view+json": {
       "model_id": "c0da46cf501543229ef7286b88fb63bf",
       "version_major": 2,
       "version_minor": 0
      },
      "text/plain": [
       "\n",
       "EPOCH: 34 training:   0%|          | 0/956 [00:00<?, ?it/s]"
      ]
     },
     "metadata": {},
     "output_type": "display_data"
    },
    {
     "data": {
      "application/vnd.jupyter.widget-view+json": {
       "model_id": "be6a3d4366e14742a54c4118e28bc511",
       "version_major": 2,
       "version_minor": 0
      },
      "text/plain": [
       "EPOCH: 34 validation:   0%|          | 0/169 [00:00<?, ?it/s]"
      ]
     },
     "metadata": {},
     "output_type": "display_data"
    },
    {
     "name": "stdout",
     "output_type": "stream",
     "text": [
      "Train Loss: 0.7406 \tTrain Acc: 0.7424 \tVal Loss: 0.9186 \tVal Acc: 0.6903\n",
      "\n",
      "Val loss decreased (0.9222 -> 0.9186), Model saved\n"
     ]
    },
    {
     "data": {
      "application/vnd.jupyter.widget-view+json": {
       "model_id": "322bbaa7068a4ae2b7c089a9fdf95dc5",
       "version_major": 2,
       "version_minor": 0
      },
      "text/plain": [
       "\n",
       "EPOCH: 35 training:   0%|          | 0/956 [00:00<?, ?it/s]"
      ]
     },
     "metadata": {},
     "output_type": "display_data"
    },
    {
     "data": {
      "application/vnd.jupyter.widget-view+json": {
       "model_id": "2e65678a587745be9705e625b2a21a92",
       "version_major": 2,
       "version_minor": 0
      },
      "text/plain": [
       "EPOCH: 35 validation:   0%|          | 0/169 [00:00<?, ?it/s]"
      ]
     },
     "metadata": {},
     "output_type": "display_data"
    },
    {
     "name": "stdout",
     "output_type": "stream",
     "text": [
      "Train Loss: 0.7337 \tTrain Acc: 0.7444 \tVal Loss: 0.9122 \tVal Acc: 0.6915\n",
      "\n",
      "Val loss decreased (0.9186 -> 0.9122), Model saved\n"
     ]
    },
    {
     "data": {
      "application/vnd.jupyter.widget-view+json": {
       "model_id": "811edd11d24a4cda93fcee0dbd61530c",
       "version_major": 2,
       "version_minor": 0
      },
      "text/plain": [
       "\n",
       "EPOCH: 36 training:   0%|          | 0/956 [00:00<?, ?it/s]"
      ]
     },
     "metadata": {},
     "output_type": "display_data"
    },
    {
     "data": {
      "application/vnd.jupyter.widget-view+json": {
       "model_id": "0f8a24f597d8429cb9658d494dab7996",
       "version_major": 2,
       "version_minor": 0
      },
      "text/plain": [
       "EPOCH: 36 validation:   0%|          | 0/169 [00:00<?, ?it/s]"
      ]
     },
     "metadata": {},
     "output_type": "display_data"
    },
    {
     "name": "stdout",
     "output_type": "stream",
     "text": [
      "Train Loss: 0.7160 \tTrain Acc: 0.7511 \tVal Loss: 0.8970 \tVal Acc: 0.7022\n",
      "\n",
      "Val loss decreased (0.9122 -> 0.8970), Model saved\n"
     ]
    },
    {
     "data": {
      "application/vnd.jupyter.widget-view+json": {
       "model_id": "c1bb47ea0d524c9686a8a304cb781d54",
       "version_major": 2,
       "version_minor": 0
      },
      "text/plain": [
       "\n",
       "EPOCH: 37 training:   0%|          | 0/956 [00:00<?, ?it/s]"
      ]
     },
     "metadata": {},
     "output_type": "display_data"
    },
    {
     "data": {
      "application/vnd.jupyter.widget-view+json": {
       "model_id": "d869b5fbdb744c81bc4a56c8925aeb51",
       "version_major": 2,
       "version_minor": 0
      },
      "text/plain": [
       "EPOCH: 37 validation:   0%|          | 0/169 [00:00<?, ?it/s]"
      ]
     },
     "metadata": {},
     "output_type": "display_data"
    },
    {
     "name": "stdout",
     "output_type": "stream",
     "text": [
      "Train Loss: 0.7060 \tTrain Acc: 0.7543 \tVal Loss: 0.9292 \tVal Acc: 0.6862\n"
     ]
    },
    {
     "data": {
      "application/vnd.jupyter.widget-view+json": {
       "model_id": "03a0723c0107481b9d07165d2b9b7597",
       "version_major": 2,
       "version_minor": 0
      },
      "text/plain": [
       "\n",
       "EPOCH: 38 training:   0%|          | 0/956 [00:00<?, ?it/s]"
      ]
     },
     "metadata": {},
     "output_type": "display_data"
    },
    {
     "data": {
      "application/vnd.jupyter.widget-view+json": {
       "model_id": "7d92f27221084e9ba98283718ab470ae",
       "version_major": 2,
       "version_minor": 0
      },
      "text/plain": [
       "EPOCH: 38 validation:   0%|          | 0/169 [00:00<?, ?it/s]"
      ]
     },
     "metadata": {},
     "output_type": "display_data"
    },
    {
     "name": "stdout",
     "output_type": "stream",
     "text": [
      "Train Loss: 0.6934 \tTrain Acc: 0.7578 \tVal Loss: 0.9156 \tVal Acc: 0.6939\n"
     ]
    },
    {
     "data": {
      "application/vnd.jupyter.widget-view+json": {
       "model_id": "01a9d37bad284ba3a8fc2f9c3c0927eb",
       "version_major": 2,
       "version_minor": 0
      },
      "text/plain": [
       "\n",
       "EPOCH: 39 training:   0%|          | 0/956 [00:00<?, ?it/s]"
      ]
     },
     "metadata": {},
     "output_type": "display_data"
    },
    {
     "data": {
      "application/vnd.jupyter.widget-view+json": {
       "model_id": "14e787be41d940febc859932c67af0fc",
       "version_major": 2,
       "version_minor": 0
      },
      "text/plain": [
       "EPOCH: 39 validation:   0%|          | 0/169 [00:00<?, ?it/s]"
      ]
     },
     "metadata": {},
     "output_type": "display_data"
    },
    {
     "name": "stdout",
     "output_type": "stream",
     "text": [
      "Train Loss: 0.6836 \tTrain Acc: 0.7617 \tVal Loss: 0.9111 \tVal Acc: 0.7010\n"
     ]
    },
    {
     "data": {
      "application/vnd.jupyter.widget-view+json": {
       "model_id": "c742dfe9b43f464eb5fbe2d26e495b5d",
       "version_major": 2,
       "version_minor": 0
      },
      "text/plain": [
       "\n",
       "EPOCH: 40 training:   0%|          | 0/956 [00:00<?, ?it/s]"
      ]
     },
     "metadata": {},
     "output_type": "display_data"
    },
    {
     "data": {
      "application/vnd.jupyter.widget-view+json": {
       "model_id": "16cf8678ff1b44849f4f5b8e84d5fb43",
       "version_major": 2,
       "version_minor": 0
      },
      "text/plain": [
       "EPOCH: 40 validation:   0%|          | 0/169 [00:00<?, ?it/s]"
      ]
     },
     "metadata": {},
     "output_type": "display_data"
    },
    {
     "name": "stdout",
     "output_type": "stream",
     "text": [
      "Train Loss: 0.6711 \tTrain Acc: 0.7666 \tVal Loss: 0.9240 \tVal Acc: 0.6940\n"
     ]
    },
    {
     "data": {
      "application/vnd.jupyter.widget-view+json": {
       "model_id": "e96c020fce624ba7b6c1f2166589f1e5",
       "version_major": 2,
       "version_minor": 0
      },
      "text/plain": [
       "\n",
       "EPOCH: 41 training:   0%|          | 0/956 [00:00<?, ?it/s]"
      ]
     },
     "metadata": {},
     "output_type": "display_data"
    },
    {
     "data": {
      "application/vnd.jupyter.widget-view+json": {
       "model_id": "d57f73a26d4d4258b4125d14fa7e9b55",
       "version_major": 2,
       "version_minor": 0
      },
      "text/plain": [
       "EPOCH: 41 validation:   0%|          | 0/169 [00:00<?, ?it/s]"
      ]
     },
     "metadata": {},
     "output_type": "display_data"
    },
    {
     "name": "stdout",
     "output_type": "stream",
     "text": [
      "Train Loss: 0.6610 \tTrain Acc: 0.7678 \tVal Loss: 0.9549 \tVal Acc: 0.6917\n"
     ]
    },
    {
     "data": {
      "application/vnd.jupyter.widget-view+json": {
       "model_id": "684b8c3b6c4a4478a6fb80dc4622d1a8",
       "version_major": 2,
       "version_minor": 0
      },
      "text/plain": [
       "\n",
       "EPOCH: 42 training:   0%|          | 0/956 [00:00<?, ?it/s]"
      ]
     },
     "metadata": {},
     "output_type": "display_data"
    },
    {
     "data": {
      "application/vnd.jupyter.widget-view+json": {
       "model_id": "536e4e234e2041138329aa6074a18887",
       "version_major": 2,
       "version_minor": 0
      },
      "text/plain": [
       "EPOCH: 42 validation:   0%|          | 0/169 [00:00<?, ?it/s]"
      ]
     },
     "metadata": {},
     "output_type": "display_data"
    },
    {
     "name": "stdout",
     "output_type": "stream",
     "text": [
      "Train Loss: 0.6553 \tTrain Acc: 0.7720 \tVal Loss: 0.9196 \tVal Acc: 0.7011\n"
     ]
    },
    {
     "data": {
      "application/vnd.jupyter.widget-view+json": {
       "model_id": "61481c953c824e3fbd442d6cd85d4992",
       "version_major": 2,
       "version_minor": 0
      },
      "text/plain": [
       "\n",
       "EPOCH: 43 training:   0%|          | 0/956 [00:00<?, ?it/s]"
      ]
     },
     "metadata": {},
     "output_type": "display_data"
    },
    {
     "data": {
      "application/vnd.jupyter.widget-view+json": {
       "model_id": "a891ba4c1bcc4340b95b20b9cd0ec1b1",
       "version_major": 2,
       "version_minor": 0
      },
      "text/plain": [
       "EPOCH: 43 validation:   0%|          | 0/169 [00:00<?, ?it/s]"
      ]
     },
     "metadata": {},
     "output_type": "display_data"
    },
    {
     "name": "stdout",
     "output_type": "stream",
     "text": [
      "Train Loss: 0.6364 \tTrain Acc: 0.7777 \tVal Loss: 0.8651 \tVal Acc: 0.7148\n",
      "\n",
      "Val loss decreased (0.8970 -> 0.8651), Model saved\n"
     ]
    },
    {
     "data": {
      "application/vnd.jupyter.widget-view+json": {
       "model_id": "816fc85e9120435c8766d51df80c22b4",
       "version_major": 2,
       "version_minor": 0
      },
      "text/plain": [
       "\n",
       "EPOCH: 44 training:   0%|          | 0/956 [00:00<?, ?it/s]"
      ]
     },
     "metadata": {},
     "output_type": "display_data"
    },
    {
     "data": {
      "application/vnd.jupyter.widget-view+json": {
       "model_id": "01e4ab404b14468da1d33f220ba4b462",
       "version_major": 2,
       "version_minor": 0
      },
      "text/plain": [
       "EPOCH: 44 validation:   0%|          | 0/169 [00:00<?, ?it/s]"
      ]
     },
     "metadata": {},
     "output_type": "display_data"
    },
    {
     "name": "stdout",
     "output_type": "stream",
     "text": [
      "Train Loss: 0.6280 \tTrain Acc: 0.7803 \tVal Loss: 0.9016 \tVal Acc: 0.7074\n"
     ]
    },
    {
     "data": {
      "application/vnd.jupyter.widget-view+json": {
       "model_id": "065844305b404b00b357c6d6500ced50",
       "version_major": 2,
       "version_minor": 0
      },
      "text/plain": [
       "\n",
       "EPOCH: 45 training:   0%|          | 0/956 [00:00<?, ?it/s]"
      ]
     },
     "metadata": {},
     "output_type": "display_data"
    },
    {
     "data": {
      "application/vnd.jupyter.widget-view+json": {
       "model_id": "7547c42ef841492388646731f766cc72",
       "version_major": 2,
       "version_minor": 0
      },
      "text/plain": [
       "EPOCH: 45 validation:   0%|          | 0/169 [00:00<?, ?it/s]"
      ]
     },
     "metadata": {},
     "output_type": "display_data"
    },
    {
     "name": "stdout",
     "output_type": "stream",
     "text": [
      "Train Loss: 0.6124 \tTrain Acc: 0.7844 \tVal Loss: 0.8900 \tVal Acc: 0.7102\n"
     ]
    },
    {
     "data": {
      "application/vnd.jupyter.widget-view+json": {
       "model_id": "26255e7e64ec455ca54174e4f50a28ab",
       "version_major": 2,
       "version_minor": 0
      },
      "text/plain": [
       "\n",
       "EPOCH: 46 training:   0%|          | 0/956 [00:00<?, ?it/s]"
      ]
     },
     "metadata": {},
     "output_type": "display_data"
    },
    {
     "data": {
      "application/vnd.jupyter.widget-view+json": {
       "model_id": "c55b9e65910f4e42911307f623e514fe",
       "version_major": 2,
       "version_minor": 0
      },
      "text/plain": [
       "EPOCH: 46 validation:   0%|          | 0/169 [00:00<?, ?it/s]"
      ]
     },
     "metadata": {},
     "output_type": "display_data"
    },
    {
     "name": "stdout",
     "output_type": "stream",
     "text": [
      "Train Loss: 0.6157 \tTrain Acc: 0.7856 \tVal Loss: 0.9101 \tVal Acc: 0.7067\n"
     ]
    },
    {
     "data": {
      "application/vnd.jupyter.widget-view+json": {
       "model_id": "f3a8f4722f814f9780609b2af806db30",
       "version_major": 2,
       "version_minor": 0
      },
      "text/plain": [
       "\n",
       "EPOCH: 47 training:   0%|          | 0/956 [00:00<?, ?it/s]"
      ]
     },
     "metadata": {},
     "output_type": "display_data"
    },
    {
     "data": {
      "application/vnd.jupyter.widget-view+json": {
       "model_id": "e105eb67ba6b494ba8e1bb06d4214a27",
       "version_major": 2,
       "version_minor": 0
      },
      "text/plain": [
       "EPOCH: 47 validation:   0%|          | 0/169 [00:00<?, ?it/s]"
      ]
     },
     "metadata": {},
     "output_type": "display_data"
    },
    {
     "name": "stdout",
     "output_type": "stream",
     "text": [
      "Train Loss: 0.6194 \tTrain Acc: 0.7840 \tVal Loss: 0.8893 \tVal Acc: 0.7100\n"
     ]
    },
    {
     "data": {
      "application/vnd.jupyter.widget-view+json": {
       "model_id": "b5296ae2bd7e41b2b9512779026880d6",
       "version_major": 2,
       "version_minor": 0
      },
      "text/plain": [
       "\n",
       "EPOCH: 48 training:   0%|          | 0/956 [00:00<?, ?it/s]"
      ]
     },
     "metadata": {},
     "output_type": "display_data"
    },
    {
     "data": {
      "application/vnd.jupyter.widget-view+json": {
       "model_id": "0d5bca0826a54169be22e603f0eaad98",
       "version_major": 2,
       "version_minor": 0
      },
      "text/plain": [
       "EPOCH: 48 validation:   0%|          | 0/169 [00:00<?, ?it/s]"
      ]
     },
     "metadata": {},
     "output_type": "display_data"
    },
    {
     "name": "stdout",
     "output_type": "stream",
     "text": [
      "Train Loss: 0.6017 \tTrain Acc: 0.7882 \tVal Loss: 0.9250 \tVal Acc: 0.6994\n"
     ]
    },
    {
     "data": {
      "application/vnd.jupyter.widget-view+json": {
       "model_id": "f72d255f383849f098e85673a71f2520",
       "version_major": 2,
       "version_minor": 0
      },
      "text/plain": [
       "\n",
       "EPOCH: 49 training:   0%|          | 0/956 [00:00<?, ?it/s]"
      ]
     },
     "metadata": {},
     "output_type": "display_data"
    },
    {
     "data": {
      "application/vnd.jupyter.widget-view+json": {
       "model_id": "47a8f2d6fba5430fbe02405c5aec8b17",
       "version_major": 2,
       "version_minor": 0
      },
      "text/plain": [
       "EPOCH: 49 validation:   0%|          | 0/169 [00:00<?, ?it/s]"
      ]
     },
     "metadata": {},
     "output_type": "display_data"
    },
    {
     "name": "stdout",
     "output_type": "stream",
     "text": [
      "Train Loss: 0.5949 \tTrain Acc: 0.7937 \tVal Loss: 0.8894 \tVal Acc: 0.7176\n"
     ]
    },
    {
     "data": {
      "application/vnd.jupyter.widget-view+json": {
       "model_id": "dca7004783b94fc6890b7ba034ba6f5f",
       "version_major": 2,
       "version_minor": 0
      },
      "text/plain": [
       "\n",
       "EPOCH: 50 training:   0%|          | 0/956 [00:00<?, ?it/s]"
      ]
     },
     "metadata": {},
     "output_type": "display_data"
    },
    {
     "data": {
      "application/vnd.jupyter.widget-view+json": {
       "model_id": "026bb5beed3f429c8da5998a3c00b640",
       "version_major": 2,
       "version_minor": 0
      },
      "text/plain": [
       "EPOCH: 50 validation:   0%|          | 0/169 [00:00<?, ?it/s]"
      ]
     },
     "metadata": {},
     "output_type": "display_data"
    },
    {
     "name": "stdout",
     "output_type": "stream",
     "text": [
      "Train Loss: 0.5862 \tTrain Acc: 0.7939 \tVal Loss: 0.8817 \tVal Acc: 0.7108\n"
     ]
    },
    {
     "data": {
      "application/vnd.jupyter.widget-view+json": {
       "model_id": "1613becf85774de59ef5471d3dc19eab",
       "version_major": 2,
       "version_minor": 0
      },
      "text/plain": [
       "\n",
       "EPOCH: 51 training:   0%|          | 0/956 [00:00<?, ?it/s]"
      ]
     },
     "metadata": {},
     "output_type": "display_data"
    },
    {
     "data": {
      "application/vnd.jupyter.widget-view+json": {
       "model_id": "9ba981857a4d49df8404a5cceb4fab27",
       "version_major": 2,
       "version_minor": 0
      },
      "text/plain": [
       "EPOCH: 51 validation:   0%|          | 0/169 [00:00<?, ?it/s]"
      ]
     },
     "metadata": {},
     "output_type": "display_data"
    },
    {
     "name": "stdout",
     "output_type": "stream",
     "text": [
      "Train Loss: 0.5635 \tTrain Acc: 0.8005 \tVal Loss: 0.8475 \tVal Acc: 0.7265\n",
      "\n",
      "Val loss decreased (0.8651 -> 0.8475), Model saved\n"
     ]
    },
    {
     "data": {
      "application/vnd.jupyter.widget-view+json": {
       "model_id": "def4f492f9dd436ca7a7f079b8e3be22",
       "version_major": 2,
       "version_minor": 0
      },
      "text/plain": [
       "\n",
       "EPOCH: 52 training:   0%|          | 0/956 [00:00<?, ?it/s]"
      ]
     },
     "metadata": {},
     "output_type": "display_data"
    },
    {
     "data": {
      "application/vnd.jupyter.widget-view+json": {
       "model_id": "0956046a49cb49f2b37c3b4a25cd8704",
       "version_major": 2,
       "version_minor": 0
      },
      "text/plain": [
       "EPOCH: 52 validation:   0%|          | 0/169 [00:00<?, ?it/s]"
      ]
     },
     "metadata": {},
     "output_type": "display_data"
    },
    {
     "name": "stdout",
     "output_type": "stream",
     "text": [
      "Train Loss: 0.5552 \tTrain Acc: 0.8057 \tVal Loss: 0.8580 \tVal Acc: 0.7197\n"
     ]
    },
    {
     "data": {
      "application/vnd.jupyter.widget-view+json": {
       "model_id": "d35075f7a5b8460aabd45d86a6882a01",
       "version_major": 2,
       "version_minor": 0
      },
      "text/plain": [
       "\n",
       "EPOCH: 53 training:   0%|          | 0/956 [00:00<?, ?it/s]"
      ]
     },
     "metadata": {},
     "output_type": "display_data"
    },
    {
     "data": {
      "application/vnd.jupyter.widget-view+json": {
       "model_id": "93820da5491a46c8973cfe73b3a5832b",
       "version_major": 2,
       "version_minor": 0
      },
      "text/plain": [
       "EPOCH: 53 validation:   0%|          | 0/169 [00:00<?, ?it/s]"
      ]
     },
     "metadata": {},
     "output_type": "display_data"
    },
    {
     "name": "stdout",
     "output_type": "stream",
     "text": [
      "Train Loss: 0.5442 \tTrain Acc: 0.8109 \tVal Loss: 0.9067 \tVal Acc: 0.7067\n"
     ]
    },
    {
     "data": {
      "application/vnd.jupyter.widget-view+json": {
       "model_id": "599ce1b06c31419da3706a3b9eebeecc",
       "version_major": 2,
       "version_minor": 0
      },
      "text/plain": [
       "\n",
       "EPOCH: 54 training:   0%|          | 0/956 [00:00<?, ?it/s]"
      ]
     },
     "metadata": {},
     "output_type": "display_data"
    },
    {
     "data": {
      "application/vnd.jupyter.widget-view+json": {
       "model_id": "d513fd7c98af451fa6b641422ab7d2e0",
       "version_major": 2,
       "version_minor": 0
      },
      "text/plain": [
       "EPOCH: 54 validation:   0%|          | 0/169 [00:00<?, ?it/s]"
      ]
     },
     "metadata": {},
     "output_type": "display_data"
    },
    {
     "name": "stdout",
     "output_type": "stream",
     "text": [
      "Train Loss: 0.5350 \tTrain Acc: 0.8118 \tVal Loss: 0.8920 \tVal Acc: 0.7117\n"
     ]
    },
    {
     "data": {
      "application/vnd.jupyter.widget-view+json": {
       "model_id": "a60916d98e6843eb9633bc41373d8994",
       "version_major": 2,
       "version_minor": 0
      },
      "text/plain": [
       "\n",
       "EPOCH: 55 training:   0%|          | 0/956 [00:00<?, ?it/s]"
      ]
     },
     "metadata": {},
     "output_type": "display_data"
    },
    {
     "data": {
      "application/vnd.jupyter.widget-view+json": {
       "model_id": "06d2ababfbe14b63b0628f024ddca97c",
       "version_major": 2,
       "version_minor": 0
      },
      "text/plain": [
       "EPOCH: 55 validation:   0%|          | 0/169 [00:00<?, ?it/s]"
      ]
     },
     "metadata": {},
     "output_type": "display_data"
    },
    {
     "name": "stdout",
     "output_type": "stream",
     "text": [
      "Train Loss: 0.5328 \tTrain Acc: 0.8134 \tVal Loss: 0.9139 \tVal Acc: 0.7117\n"
     ]
    },
    {
     "data": {
      "application/vnd.jupyter.widget-view+json": {
       "model_id": "1ecf2e11b7754310877008ec475c68e2",
       "version_major": 2,
       "version_minor": 0
      },
      "text/plain": [
       "\n",
       "EPOCH: 56 training:   0%|          | 0/956 [00:00<?, ?it/s]"
      ]
     },
     "metadata": {},
     "output_type": "display_data"
    },
    {
     "data": {
      "application/vnd.jupyter.widget-view+json": {
       "model_id": "3924594ce989421583820f648a8ac097",
       "version_major": 2,
       "version_minor": 0
      },
      "text/plain": [
       "EPOCH: 56 validation:   0%|          | 0/169 [00:00<?, ?it/s]"
      ]
     },
     "metadata": {},
     "output_type": "display_data"
    },
    {
     "name": "stdout",
     "output_type": "stream",
     "text": [
      "Train Loss: 0.5322 \tTrain Acc: 0.8128 \tVal Loss: 0.9399 \tVal Acc: 0.7126\n"
     ]
    },
    {
     "data": {
      "application/vnd.jupyter.widget-view+json": {
       "model_id": "215b537c285b4a83acf17655cf2320bd",
       "version_major": 2,
       "version_minor": 0
      },
      "text/plain": [
       "\n",
       "EPOCH: 57 training:   0%|          | 0/956 [00:00<?, ?it/s]"
      ]
     },
     "metadata": {},
     "output_type": "display_data"
    },
    {
     "data": {
      "application/vnd.jupyter.widget-view+json": {
       "model_id": "3aff712856a24f04b5e86de957ecd2a0",
       "version_major": 2,
       "version_minor": 0
      },
      "text/plain": [
       "EPOCH: 57 validation:   0%|          | 0/169 [00:00<?, ?it/s]"
      ]
     },
     "metadata": {},
     "output_type": "display_data"
    },
    {
     "name": "stdout",
     "output_type": "stream",
     "text": [
      "Train Loss: 0.5139 \tTrain Acc: 0.8196 \tVal Loss: 0.9221 \tVal Acc: 0.7190\n"
     ]
    },
    {
     "data": {
      "application/vnd.jupyter.widget-view+json": {
       "model_id": "c4d1da3f2f054730b1e4aee19fe0c009",
       "version_major": 2,
       "version_minor": 0
      },
      "text/plain": [
       "\n",
       "EPOCH: 58 training:   0%|          | 0/956 [00:00<?, ?it/s]"
      ]
     },
     "metadata": {},
     "output_type": "display_data"
    },
    {
     "data": {
      "application/vnd.jupyter.widget-view+json": {
       "model_id": "452135c30e8646fe8d80cff84a2e16b3",
       "version_major": 2,
       "version_minor": 0
      },
      "text/plain": [
       "EPOCH: 58 validation:   0%|          | 0/169 [00:00<?, ?it/s]"
      ]
     },
     "metadata": {},
     "output_type": "display_data"
    },
    {
     "name": "stdout",
     "output_type": "stream",
     "text": [
      "Train Loss: 0.5301 \tTrain Acc: 0.8149 \tVal Loss: 0.9117 \tVal Acc: 0.7180\n"
     ]
    },
    {
     "data": {
      "application/vnd.jupyter.widget-view+json": {
       "model_id": "8016a6a48caa4623b97f5bb1ad0cfe29",
       "version_major": 2,
       "version_minor": 0
      },
      "text/plain": [
       "\n",
       "EPOCH: 59 training:   0%|          | 0/956 [00:00<?, ?it/s]"
      ]
     },
     "metadata": {},
     "output_type": "display_data"
    },
    {
     "data": {
      "application/vnd.jupyter.widget-view+json": {
       "model_id": "110dbaac5869422aba5ea639167c4694",
       "version_major": 2,
       "version_minor": 0
      },
      "text/plain": [
       "EPOCH: 59 validation:   0%|          | 0/169 [00:00<?, ?it/s]"
      ]
     },
     "metadata": {},
     "output_type": "display_data"
    },
    {
     "name": "stdout",
     "output_type": "stream",
     "text": [
      "Train Loss: 0.5108 \tTrain Acc: 0.8228 \tVal Loss: 0.9210 \tVal Acc: 0.7102\n"
     ]
    },
    {
     "data": {
      "application/vnd.jupyter.widget-view+json": {
       "model_id": "ec55630bcf284142bfdd7b5c2a63ec05",
       "version_major": 2,
       "version_minor": 0
      },
      "text/plain": [
       "\n",
       "EPOCH: 60 training:   0%|          | 0/956 [00:00<?, ?it/s]"
      ]
     },
     "metadata": {},
     "output_type": "display_data"
    },
    {
     "data": {
      "application/vnd.jupyter.widget-view+json": {
       "model_id": "097e5b9c9546499bbf98ffe8a4e6b519",
       "version_major": 2,
       "version_minor": 0
      },
      "text/plain": [
       "EPOCH: 60 validation:   0%|          | 0/169 [00:00<?, ?it/s]"
      ]
     },
     "metadata": {},
     "output_type": "display_data"
    },
    {
     "name": "stdout",
     "output_type": "stream",
     "text": [
      "Train Loss: 0.4886 \tTrain Acc: 0.8279 \tVal Loss: 0.9204 \tVal Acc: 0.7195\n"
     ]
    },
    {
     "data": {
      "application/vnd.jupyter.widget-view+json": {
       "model_id": "b5b68312068f45e090fc1d51394f933e",
       "version_major": 2,
       "version_minor": 0
      },
      "text/plain": [
       "\n",
       "EPOCH: 61 training:   0%|          | 0/956 [00:00<?, ?it/s]"
      ]
     },
     "metadata": {},
     "output_type": "display_data"
    },
    {
     "data": {
      "application/vnd.jupyter.widget-view+json": {
       "model_id": "a582d506122e429ebedaec4744a2c7c9",
       "version_major": 2,
       "version_minor": 0
      },
      "text/plain": [
       "EPOCH: 61 validation:   0%|          | 0/169 [00:00<?, ?it/s]"
      ]
     },
     "metadata": {},
     "output_type": "display_data"
    },
    {
     "name": "stdout",
     "output_type": "stream",
     "text": [
      "Train Loss: 0.4558 \tTrain Acc: 0.8407 \tVal Loss: 0.9282 \tVal Acc: 0.7222\n"
     ]
    },
    {
     "data": {
      "application/vnd.jupyter.widget-view+json": {
       "model_id": "9f2e5371a32b437383a21e08c9b28946",
       "version_major": 2,
       "version_minor": 0
      },
      "text/plain": [
       "\n",
       "EPOCH: 62 training:   0%|          | 0/956 [00:00<?, ?it/s]"
      ]
     },
     "metadata": {},
     "output_type": "display_data"
    },
    {
     "data": {
      "application/vnd.jupyter.widget-view+json": {
       "model_id": "664f431b81c94457a7b214540af7e09d",
       "version_major": 2,
       "version_minor": 0
      },
      "text/plain": [
       "EPOCH: 62 validation:   0%|          | 0/169 [00:00<?, ?it/s]"
      ]
     },
     "metadata": {},
     "output_type": "display_data"
    },
    {
     "name": "stdout",
     "output_type": "stream",
     "text": [
      "Train Loss: 0.4961 \tTrain Acc: 0.8255 \tVal Loss: 0.9291 \tVal Acc: 0.7102\n"
     ]
    },
    {
     "data": {
      "application/vnd.jupyter.widget-view+json": {
       "model_id": "27f2d9ff807f4476b87016fa25cd4202",
       "version_major": 2,
       "version_minor": 0
      },
      "text/plain": [
       "\n",
       "EPOCH: 63 training:   0%|          | 0/956 [00:00<?, ?it/s]"
      ]
     },
     "metadata": {},
     "output_type": "display_data"
    },
    {
     "data": {
      "application/vnd.jupyter.widget-view+json": {
       "model_id": "c630e7bbf7a74f0582c095488510b291",
       "version_major": 2,
       "version_minor": 0
      },
      "text/plain": [
       "EPOCH: 63 validation:   0%|          | 0/169 [00:00<?, ?it/s]"
      ]
     },
     "metadata": {},
     "output_type": "display_data"
    },
    {
     "name": "stdout",
     "output_type": "stream",
     "text": [
      "Train Loss: 0.5068 \tTrain Acc: 0.8233 \tVal Loss: 0.8928 \tVal Acc: 0.7138\n"
     ]
    },
    {
     "data": {
      "application/vnd.jupyter.widget-view+json": {
       "model_id": "6891237cc9514d4d9f8c4e515577ce0b",
       "version_major": 2,
       "version_minor": 0
      },
      "text/plain": [
       "\n",
       "EPOCH: 64 training:   0%|          | 0/956 [00:00<?, ?it/s]"
      ]
     },
     "metadata": {},
     "output_type": "display_data"
    },
    {
     "data": {
      "application/vnd.jupyter.widget-view+json": {
       "model_id": "ce207ece38ab44d0bdec27a613861c5c",
       "version_major": 2,
       "version_minor": 0
      },
      "text/plain": [
       "EPOCH: 64 validation:   0%|          | 0/169 [00:00<?, ?it/s]"
      ]
     },
     "metadata": {},
     "output_type": "display_data"
    }
   ],
   "source": [
    "if model_option == 2:\n",
    "    model, History = cnn_lstm.start_training()\n",
    "\n",
    "elif model_option == 3:\n",
    "    model, History = cnn_transformer_v3.start_training()\n",
    "    \n",
    "elif model_option == 4:\n",
    "    model, History = cnn_patch_transformer.start_training()"
   ]
  },
  {
   "cell_type": "code",
   "execution_count": null,
   "id": "cb9c1a8f",
   "metadata": {},
   "outputs": [],
   "source": []
  }
 ],
 "metadata": {
  "kernelspec": {
   "display_name": "Python 3 (ipykernel)",
   "language": "python",
   "name": "python3"
  },
  "language_info": {
   "codemirror_mode": {
    "name": "ipython",
    "version": 3
   },
   "file_extension": ".py",
   "mimetype": "text/x-python",
   "name": "python",
   "nbconvert_exporter": "python",
   "pygments_lexer": "ipython3",
   "version": "3.8.12"
  }
 },
 "nbformat": 4,
 "nbformat_minor": 5
}
