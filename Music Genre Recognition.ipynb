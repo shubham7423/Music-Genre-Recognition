{
 "cells": [
  {
   "cell_type": "markdown",
   "id": "91b3e469",
   "metadata": {},
   "source": [
    "# How To Run\n",
    "\n",
    "Download code from github repo (link: https://github.com/shubham7423/Music-Genre-Recognition). <br>\n",
    "Place this notebook in the same folder as mgr. <br>\n",
    "Install all libraries from requirements.txt file. <br>\n",
    "Download the raw audio files, preprocessed data and model weights from __ and extract the contents in the same folder as mgr folder. <br>\n",
    "Path to the data and model weights can be updated in the mgr/configuration/configuration.yaml file"
   ]
  },
  {
   "cell_type": "code",
   "execution_count": 1,
   "id": "1af0fe72",
   "metadata": {},
   "outputs": [],
   "source": [
    "#Run this cell to set the device to use.\n",
    "\n",
    "import mgr.configuration\n",
    "import torch\n",
    "import yaml\n",
    "\n",
    "CFG = mgr.configuration.load.load_configurations()\n",
    "CFG['device'] = 'cuda' if torch.cuda.is_available() else 'cpu'\n",
    "\n",
    "with open('mgr\\configuration\\configuration.yaml', 'w') as file:\n",
    "    documents = yaml.dump(CFG, file)"
   ]
  },
  {
   "cell_type": "markdown",
   "id": "2cd06b63",
   "metadata": {},
   "source": [
    "# Preprocessing"
   ]
  },
  {
   "cell_type": "code",
   "execution_count": 1,
   "id": "c6c20c54",
   "metadata": {},
   "outputs": [],
   "source": [
    "import mgr.preprocessing as preprocessing"
   ]
  },
  {
   "cell_type": "code",
   "execution_count": null,
   "id": "dc826d73",
   "metadata": {},
   "outputs": [
    {
     "name": "stdout",
     "output_type": "stream",
     "text": [
      "Classes:  ['Electronic' 'Experimental' 'Folk' 'Hip-Hop' 'Instrumental'\n",
      " 'International' 'Pop' 'Rock']\n"
     ]
    },
    {
     "name": "stderr",
     "output_type": "stream",
     "text": [
      "C:\\Users\\p_hubham\\Documents\\GitHub\\Music-Genre-Recognition\\mgr\\configuration\\load.py:12: YAMLLoadWarning: calling yaml.load() without Loader=... is deprecated, as the default Loader is unsafe. Please read https://msg.pyyaml.org/load for full details.\n",
      "  return yaml.load(file)\n"
     ]
    },
    {
     "data": {
      "application/vnd.jupyter.widget-view+json": {
       "model_id": "aaf9b1021c904395bb8d494cea1c48a6",
       "version_major": 2,
       "version_minor": 0
      },
      "text/plain": [
       "  0%|          | 0/1250 [00:00<?, ?it/s]"
      ]
     },
     "metadata": {},
     "output_type": "display_data"
    },
    {
     "name": "stdout",
     "output_type": "stream",
     "text": [
      "track_id    98565_8\n",
      "label             3\n",
      "Name: 44238, dtype: object\n"
     ]
    }
   ],
   "source": [
    "preprocessing.process()"
   ]
  },
  {
   "cell_type": "markdown",
   "id": "da9776c1",
   "metadata": {},
   "source": [
    "# Train"
   ]
  },
  {
   "cell_type": "code",
   "execution_count": 1,
   "id": "95abb43e",
   "metadata": {},
   "outputs": [],
   "source": [
    "import mgr.train.transformer.cnn_transformer_v3 as cnn_transformer_v3\n",
    "import mgr.train.transformer.cnn_patch_transformer as cnn_patch_transformer\n",
    "import mgr.train.lstm.cnn_lstm as cnn_lstm\n",
    "import mgr.train.cnn.cnn as cnn\n",
    "import mgr.train.cnn.resnet as resnet"
   ]
  },
  {
   "cell_type": "markdown",
   "id": "45e5df38",
   "metadata": {},
   "source": [
    "## Select model to train\n",
    "\n",
    "1.CNN <br>\n",
    "2.Resnet <br>\n",
    "3.CNN+LSTM <br>\n",
    "4.CNN+Transformer <br>\n",
    "5.CNN+Transformer(Patched)"
   ]
  },
  {
   "cell_type": "code",
   "execution_count": 4,
   "id": "11e7a721",
   "metadata": {},
   "outputs": [],
   "source": [
    "model_option = 2"
   ]
  },
  {
   "cell_type": "code",
   "execution_count": null,
   "id": "5be21108",
   "metadata": {},
   "outputs": [
    {
     "name": "stderr",
     "output_type": "stream",
     "text": [
      "C:\\Users\\p_hubham\\Documents\\GitHub\\Music-Genre-Recognition\\mgr\\configuration\\load.py:13: YAMLLoadWarning: calling yaml.load() without Loader=... is deprecated, as the default Loader is unsafe. Please read https://msg.pyyaml.org/load for full details.\n",
      "  return yaml.load(file)\n"
     ]
    },
    {
     "name": "stdout",
     "output_type": "stream",
     "text": [
      "torch.Size([71973, 1, 128, 94]) (71973,)\n",
      "=> Training on cuda\n"
     ]
    },
    {
     "data": {
      "application/vnd.jupyter.widget-view+json": {
       "model_id": "37a87c71d8e04d0f9a15514ff9990622",
       "version_major": 2,
       "version_minor": 0
      },
      "text/plain": [
       "\n",
       "EPOCH: 1 training:   0%|          | 0/956 [00:00<?, ?it/s]"
      ]
     },
     "metadata": {},
     "output_type": "display_data"
    },
    {
     "data": {
      "application/vnd.jupyter.widget-view+json": {
       "model_id": "0da7b40163e04a68ae169a6b30b29f4a",
       "version_major": 2,
       "version_minor": 0
      },
      "text/plain": [
       "EPOCH: 1 validation:   0%|          | 0/169 [00:00<?, ?it/s]"
      ]
     },
     "metadata": {},
     "output_type": "display_data"
    },
    {
     "name": "stdout",
     "output_type": "stream",
     "text": [
      "Train Loss: 1.4694 \tTrain Acc: 0.4773 \tVal Loss: 1.3230 \tVal Acc: 0.5388\n",
      "\n",
      "Val loss decreased (inf -> 1.3230), Model saved\n"
     ]
    },
    {
     "data": {
      "application/vnd.jupyter.widget-view+json": {
       "model_id": "0a9b15b9a41e4256bb36cd0d8a5afdbe",
       "version_major": 2,
       "version_minor": 0
      },
      "text/plain": [
       "\n",
       "EPOCH: 2 training:   0%|          | 0/956 [00:00<?, ?it/s]"
      ]
     },
     "metadata": {},
     "output_type": "display_data"
    },
    {
     "data": {
      "application/vnd.jupyter.widget-view+json": {
       "model_id": "5a17343753584d32affae7aef7d6d510",
       "version_major": 2,
       "version_minor": 0
      },
      "text/plain": [
       "EPOCH: 2 validation:   0%|          | 0/169 [00:00<?, ?it/s]"
      ]
     },
     "metadata": {},
     "output_type": "display_data"
    },
    {
     "name": "stdout",
     "output_type": "stream",
     "text": [
      "Train Loss: 1.2700 \tTrain Acc: 0.5578 \tVal Loss: 1.2420 \tVal Acc: 0.5651\n",
      "\n",
      "Val loss decreased (1.3230 -> 1.2420), Model saved\n"
     ]
    },
    {
     "data": {
      "application/vnd.jupyter.widget-view+json": {
       "model_id": "661554d61c8c4ae68fbb49111de8eebd",
       "version_major": 2,
       "version_minor": 0
      },
      "text/plain": [
       "\n",
       "EPOCH: 3 training:   0%|          | 0/956 [00:00<?, ?it/s]"
      ]
     },
     "metadata": {},
     "output_type": "display_data"
    },
    {
     "data": {
      "application/vnd.jupyter.widget-view+json": {
       "model_id": "930762b85d5745d9807031d5d3539f86",
       "version_major": 2,
       "version_minor": 0
      },
      "text/plain": [
       "EPOCH: 3 validation:   0%|          | 0/169 [00:00<?, ?it/s]"
      ]
     },
     "metadata": {},
     "output_type": "display_data"
    },
    {
     "name": "stdout",
     "output_type": "stream",
     "text": [
      "Train Loss: 1.1568 \tTrain Acc: 0.5974 \tVal Loss: 1.1946 \tVal Acc: 0.5848\n",
      "\n",
      "Val loss decreased (1.2420 -> 1.1946), Model saved\n"
     ]
    },
    {
     "data": {
      "application/vnd.jupyter.widget-view+json": {
       "model_id": "7dc72833d6d1461490d62b5a72aa6ac3",
       "version_major": 2,
       "version_minor": 0
      },
      "text/plain": [
       "\n",
       "EPOCH: 4 training:   0%|          | 0/956 [00:00<?, ?it/s]"
      ]
     },
     "metadata": {},
     "output_type": "display_data"
    },
    {
     "data": {
      "application/vnd.jupyter.widget-view+json": {
       "model_id": "467899480a354637ac1cbb866ddc09d3",
       "version_major": 2,
       "version_minor": 0
      },
      "text/plain": [
       "EPOCH: 4 validation:   0%|          | 0/169 [00:00<?, ?it/s]"
      ]
     },
     "metadata": {},
     "output_type": "display_data"
    },
    {
     "name": "stdout",
     "output_type": "stream",
     "text": [
      "Train Loss: 1.0499 \tTrain Acc: 0.6345 \tVal Loss: 1.0571 \tVal Acc: 0.6351\n",
      "\n",
      "Val loss decreased (1.1946 -> 1.0571), Model saved\n"
     ]
    },
    {
     "data": {
      "application/vnd.jupyter.widget-view+json": {
       "model_id": "5a75787b7fa54b8a974e5ae64baf9c2b",
       "version_major": 2,
       "version_minor": 0
      },
      "text/plain": [
       "\n",
       "EPOCH: 5 training:   0%|          | 0/956 [00:00<?, ?it/s]"
      ]
     },
     "metadata": {},
     "output_type": "display_data"
    },
    {
     "data": {
      "application/vnd.jupyter.widget-view+json": {
       "model_id": "412c1eb6b6474152ae561189d2f0b27d",
       "version_major": 2,
       "version_minor": 0
      },
      "text/plain": [
       "EPOCH: 5 validation:   0%|          | 0/169 [00:00<?, ?it/s]"
      ]
     },
     "metadata": {},
     "output_type": "display_data"
    },
    {
     "name": "stdout",
     "output_type": "stream",
     "text": [
      "Train Loss: 0.9343 \tTrain Acc: 0.6743 \tVal Loss: 1.0450 \tVal Acc: 0.6356\n",
      "\n",
      "Val loss decreased (1.0571 -> 1.0450), Model saved\n"
     ]
    },
    {
     "data": {
      "application/vnd.jupyter.widget-view+json": {
       "model_id": "02e6f7bcec7d43f08fd2a7317531089b",
       "version_major": 2,
       "version_minor": 0
      },
      "text/plain": [
       "\n",
       "EPOCH: 6 training:   0%|          | 0/956 [00:00<?, ?it/s]"
      ]
     },
     "metadata": {},
     "output_type": "display_data"
    },
    {
     "data": {
      "application/vnd.jupyter.widget-view+json": {
       "model_id": "08fa69218661438a81c07bfd35583c38",
       "version_major": 2,
       "version_minor": 0
      },
      "text/plain": [
       "EPOCH: 6 validation:   0%|          | 0/169 [00:00<?, ?it/s]"
      ]
     },
     "metadata": {},
     "output_type": "display_data"
    },
    {
     "name": "stdout",
     "output_type": "stream",
     "text": [
      "Train Loss: 0.7977 \tTrain Acc: 0.7252 \tVal Loss: 0.9089 \tVal Acc: 0.6928\n",
      "\n",
      "Val loss decreased (1.0450 -> 0.9089), Model saved\n"
     ]
    },
    {
     "data": {
      "application/vnd.jupyter.widget-view+json": {
       "model_id": "ef9d2f8ced85455f933fccb950722634",
       "version_major": 2,
       "version_minor": 0
      },
      "text/plain": [
       "\n",
       "EPOCH: 7 training:   0%|          | 0/956 [00:00<?, ?it/s]"
      ]
     },
     "metadata": {},
     "output_type": "display_data"
    },
    {
     "data": {
      "application/vnd.jupyter.widget-view+json": {
       "model_id": "9b6cc119baea4d6ba70875a6571f8735",
       "version_major": 2,
       "version_minor": 0
      },
      "text/plain": [
       "EPOCH: 7 validation:   0%|          | 0/169 [00:00<?, ?it/s]"
      ]
     },
     "metadata": {},
     "output_type": "display_data"
    },
    {
     "name": "stdout",
     "output_type": "stream",
     "text": [
      "Train Loss: 0.6596 \tTrain Acc: 0.7729 \tVal Loss: 0.9101 \tVal Acc: 0.6970\n"
     ]
    },
    {
     "data": {
      "application/vnd.jupyter.widget-view+json": {
       "model_id": "8a1a6b46c431437491601128a1ef895e",
       "version_major": 2,
       "version_minor": 0
      },
      "text/plain": [
       "\n",
       "EPOCH: 8 training:   0%|          | 0/956 [00:00<?, ?it/s]"
      ]
     },
     "metadata": {},
     "output_type": "display_data"
    },
    {
     "data": {
      "application/vnd.jupyter.widget-view+json": {
       "model_id": "d947dc70bd0843d889f4920292f49454",
       "version_major": 2,
       "version_minor": 0
      },
      "text/plain": [
       "EPOCH: 8 validation:   0%|          | 0/169 [00:00<?, ?it/s]"
      ]
     },
     "metadata": {},
     "output_type": "display_data"
    },
    {
     "name": "stdout",
     "output_type": "stream",
     "text": [
      "Train Loss: 0.5197 \tTrain Acc: 0.8226 \tVal Loss: 0.8345 \tVal Acc: 0.7335\n",
      "\n",
      "Val loss decreased (0.9089 -> 0.8345), Model saved\n"
     ]
    },
    {
     "data": {
      "application/vnd.jupyter.widget-view+json": {
       "model_id": "3391bd7544a5481ba82b3d15a30bcf36",
       "version_major": 2,
       "version_minor": 0
      },
      "text/plain": [
       "\n",
       "EPOCH: 9 training:   0%|          | 0/956 [00:00<?, ?it/s]"
      ]
     },
     "metadata": {},
     "output_type": "display_data"
    },
    {
     "data": {
      "application/vnd.jupyter.widget-view+json": {
       "model_id": "8d3317e27f0e49c58f40acf8385a9699",
       "version_major": 2,
       "version_minor": 0
      },
      "text/plain": [
       "EPOCH: 9 validation:   0%|          | 0/169 [00:00<?, ?it/s]"
      ]
     },
     "metadata": {},
     "output_type": "display_data"
    },
    {
     "name": "stdout",
     "output_type": "stream",
     "text": [
      "Train Loss: 0.4066 \tTrain Acc: 0.8594 \tVal Loss: 0.7502 \tVal Acc: 0.7599\n",
      "\n",
      "Val loss decreased (0.8345 -> 0.7502), Model saved\n"
     ]
    },
    {
     "data": {
      "application/vnd.jupyter.widget-view+json": {
       "model_id": "687a769a26ad4439a2980f183d7566d2",
       "version_major": 2,
       "version_minor": 0
      },
      "text/plain": [
       "\n",
       "EPOCH: 10 training:   0%|          | 0/956 [00:00<?, ?it/s]"
      ]
     },
     "metadata": {},
     "output_type": "display_data"
    },
    {
     "data": {
      "application/vnd.jupyter.widget-view+json": {
       "model_id": "981106eef8e7464f82090bf5c54222cd",
       "version_major": 2,
       "version_minor": 0
      },
      "text/plain": [
       "EPOCH: 10 validation:   0%|          | 0/169 [00:00<?, ?it/s]"
      ]
     },
     "metadata": {},
     "output_type": "display_data"
    },
    {
     "name": "stdout",
     "output_type": "stream",
     "text": [
      "Train Loss: 0.3050 \tTrain Acc: 0.8946 \tVal Loss: 0.8065 \tVal Acc: 0.7595\n"
     ]
    },
    {
     "data": {
      "application/vnd.jupyter.widget-view+json": {
       "model_id": "a71cbfec6f6b4617b2064b580c69d320",
       "version_major": 2,
       "version_minor": 0
      },
      "text/plain": [
       "\n",
       "EPOCH: 11 training:   0%|          | 0/956 [00:00<?, ?it/s]"
      ]
     },
     "metadata": {},
     "output_type": "display_data"
    },
    {
     "data": {
      "application/vnd.jupyter.widget-view+json": {
       "model_id": "6725979a4e82482ca47a2612f82ed69b",
       "version_major": 2,
       "version_minor": 0
      },
      "text/plain": [
       "EPOCH: 11 validation:   0%|          | 0/169 [00:00<?, ?it/s]"
      ]
     },
     "metadata": {},
     "output_type": "display_data"
    },
    {
     "name": "stdout",
     "output_type": "stream",
     "text": [
      "Train Loss: 0.2355 \tTrain Acc: 0.9174 \tVal Loss: 0.8004 \tVal Acc: 0.7753\n"
     ]
    },
    {
     "data": {
      "application/vnd.jupyter.widget-view+json": {
       "model_id": "13164201c9c84592aa74efb49cd4effb",
       "version_major": 2,
       "version_minor": 0
      },
      "text/plain": [
       "\n",
       "EPOCH: 12 training:   0%|          | 0/956 [00:00<?, ?it/s]"
      ]
     },
     "metadata": {},
     "output_type": "display_data"
    },
    {
     "data": {
      "application/vnd.jupyter.widget-view+json": {
       "model_id": "96b45213f50243e392ef60ac5d75d978",
       "version_major": 2,
       "version_minor": 0
      },
      "text/plain": [
       "EPOCH: 12 validation:   0%|          | 0/169 [00:00<?, ?it/s]"
      ]
     },
     "metadata": {},
     "output_type": "display_data"
    },
    {
     "name": "stdout",
     "output_type": "stream",
     "text": [
      "Train Loss: 0.1896 \tTrain Acc: 0.9338 \tVal Loss: 0.7901 \tVal Acc: 0.7887\n"
     ]
    },
    {
     "data": {
      "application/vnd.jupyter.widget-view+json": {
       "model_id": "87238e4c81c14f429b37b3c5a062812b",
       "version_major": 2,
       "version_minor": 0
      },
      "text/plain": [
       "\n",
       "EPOCH: 13 training:   0%|          | 0/956 [00:00<?, ?it/s]"
      ]
     },
     "metadata": {},
     "output_type": "display_data"
    },
    {
     "data": {
      "application/vnd.jupyter.widget-view+json": {
       "model_id": "585f417f84eb4ae783ccc7553f0cb575",
       "version_major": 2,
       "version_minor": 0
      },
      "text/plain": [
       "EPOCH: 13 validation:   0%|          | 0/169 [00:00<?, ?it/s]"
      ]
     },
     "metadata": {},
     "output_type": "display_data"
    },
    {
     "name": "stdout",
     "output_type": "stream",
     "text": [
      "Train Loss: 0.1606 \tTrain Acc: 0.9430 \tVal Loss: 0.7791 \tVal Acc: 0.8014\n"
     ]
    },
    {
     "data": {
      "application/vnd.jupyter.widget-view+json": {
       "model_id": "e4d641c13adc42b0bc9cc51f6d0bf798",
       "version_major": 2,
       "version_minor": 0
      },
      "text/plain": [
       "\n",
       "EPOCH: 14 training:   0%|          | 0/956 [00:00<?, ?it/s]"
      ]
     },
     "metadata": {},
     "output_type": "display_data"
    },
    {
     "data": {
      "application/vnd.jupyter.widget-view+json": {
       "model_id": "af8d1d4a5037431cbd1b3a6e639fe1a4",
       "version_major": 2,
       "version_minor": 0
      },
      "text/plain": [
       "EPOCH: 14 validation:   0%|          | 0/169 [00:00<?, ?it/s]"
      ]
     },
     "metadata": {},
     "output_type": "display_data"
    },
    {
     "name": "stdout",
     "output_type": "stream",
     "text": [
      "Train Loss: 0.1353 \tTrain Acc: 0.9529 \tVal Loss: 0.8044 \tVal Acc: 0.8036\n"
     ]
    },
    {
     "data": {
      "application/vnd.jupyter.widget-view+json": {
       "model_id": "7051508da21c4898afe1898a52023df3",
       "version_major": 2,
       "version_minor": 0
      },
      "text/plain": [
       "\n",
       "EPOCH: 15 training:   0%|          | 0/956 [00:00<?, ?it/s]"
      ]
     },
     "metadata": {},
     "output_type": "display_data"
    },
    {
     "data": {
      "application/vnd.jupyter.widget-view+json": {
       "model_id": "494bba17511c4764a10472516e098d28",
       "version_major": 2,
       "version_minor": 0
      },
      "text/plain": [
       "EPOCH: 15 validation:   0%|          | 0/169 [00:00<?, ?it/s]"
      ]
     },
     "metadata": {},
     "output_type": "display_data"
    },
    {
     "name": "stdout",
     "output_type": "stream",
     "text": [
      "Train Loss: 0.1209 \tTrain Acc: 0.9584 \tVal Loss: 0.9520 \tVal Acc: 0.7867\n"
     ]
    },
    {
     "data": {
      "application/vnd.jupyter.widget-view+json": {
       "model_id": "215201a877d14dc48017523a89c13616",
       "version_major": 2,
       "version_minor": 0
      },
      "text/plain": [
       "\n",
       "EPOCH: 16 training:   0%|          | 0/956 [00:00<?, ?it/s]"
      ]
     },
     "metadata": {},
     "output_type": "display_data"
    },
    {
     "data": {
      "application/vnd.jupyter.widget-view+json": {
       "model_id": "723c7ec2b9904a58849e8665025433b4",
       "version_major": 2,
       "version_minor": 0
      },
      "text/plain": [
       "EPOCH: 16 validation:   0%|          | 0/169 [00:00<?, ?it/s]"
      ]
     },
     "metadata": {},
     "output_type": "display_data"
    },
    {
     "name": "stdout",
     "output_type": "stream",
     "text": [
      "Train Loss: 0.1096 \tTrain Acc: 0.9617 \tVal Loss: 0.9414 \tVal Acc: 0.7940\n"
     ]
    },
    {
     "data": {
      "application/vnd.jupyter.widget-view+json": {
       "model_id": "8574e03a4f9d43e3932c23afb08c71e2",
       "version_major": 2,
       "version_minor": 0
      },
      "text/plain": [
       "\n",
       "EPOCH: 17 training:   0%|          | 0/956 [00:00<?, ?it/s]"
      ]
     },
     "metadata": {},
     "output_type": "display_data"
    },
    {
     "data": {
      "application/vnd.jupyter.widget-view+json": {
       "model_id": "6ba8034bb9c04d389a3e26f9c0f5b303",
       "version_major": 2,
       "version_minor": 0
      },
      "text/plain": [
       "EPOCH: 17 validation:   0%|          | 0/169 [00:00<?, ?it/s]"
      ]
     },
     "metadata": {},
     "output_type": "display_data"
    },
    {
     "name": "stdout",
     "output_type": "stream",
     "text": [
      "Train Loss: 0.1005 \tTrain Acc: 0.9658 \tVal Loss: 0.8892 \tVal Acc: 0.7985\n"
     ]
    },
    {
     "data": {
      "application/vnd.jupyter.widget-view+json": {
       "model_id": "3b0cd13cb2ce4edebe5fe479ac8e163d",
       "version_major": 2,
       "version_minor": 0
      },
      "text/plain": [
       "\n",
       "EPOCH: 18 training:   0%|          | 0/956 [00:00<?, ?it/s]"
      ]
     },
     "metadata": {},
     "output_type": "display_data"
    },
    {
     "data": {
      "application/vnd.jupyter.widget-view+json": {
       "model_id": "8fb2430f15df4b2cac2ccfd3649d43ce",
       "version_major": 2,
       "version_minor": 0
      },
      "text/plain": [
       "EPOCH: 18 validation:   0%|          | 0/169 [00:00<?, ?it/s]"
      ]
     },
     "metadata": {},
     "output_type": "display_data"
    },
    {
     "name": "stdout",
     "output_type": "stream",
     "text": [
      "Train Loss: 0.0925 \tTrain Acc: 0.9676 \tVal Loss: 0.9086 \tVal Acc: 0.8058\n"
     ]
    },
    {
     "data": {
      "application/vnd.jupyter.widget-view+json": {
       "model_id": "0482982b5984437ba219e87012b1ac0c",
       "version_major": 2,
       "version_minor": 0
      },
      "text/plain": [
       "\n",
       "EPOCH: 19 training:   0%|          | 0/956 [00:00<?, ?it/s]"
      ]
     },
     "metadata": {},
     "output_type": "display_data"
    },
    {
     "data": {
      "application/vnd.jupyter.widget-view+json": {
       "model_id": "ddddbb78de2f44a1a8c305c55446ec06",
       "version_major": 2,
       "version_minor": 0
      },
      "text/plain": [
       "EPOCH: 19 validation:   0%|          | 0/169 [00:00<?, ?it/s]"
      ]
     },
     "metadata": {},
     "output_type": "display_data"
    },
    {
     "name": "stdout",
     "output_type": "stream",
     "text": [
      "Train Loss: 0.0836 \tTrain Acc: 0.9710 \tVal Loss: 0.9372 \tVal Acc: 0.8043\n"
     ]
    },
    {
     "data": {
      "application/vnd.jupyter.widget-view+json": {
       "model_id": "fa1f5997ec524a03be878e1e3dfae64a",
       "version_major": 2,
       "version_minor": 0
      },
      "text/plain": [
       "\n",
       "EPOCH: 20 training:   0%|          | 0/956 [00:00<?, ?it/s]"
      ]
     },
     "metadata": {},
     "output_type": "display_data"
    },
    {
     "data": {
      "application/vnd.jupyter.widget-view+json": {
       "model_id": "6be95937499848b2aee190b645828aae",
       "version_major": 2,
       "version_minor": 0
      },
      "text/plain": [
       "EPOCH: 20 validation:   0%|          | 0/169 [00:00<?, ?it/s]"
      ]
     },
     "metadata": {},
     "output_type": "display_data"
    },
    {
     "name": "stdout",
     "output_type": "stream",
     "text": [
      "Train Loss: 0.0786 \tTrain Acc: 0.9728 \tVal Loss: 0.9047 \tVal Acc: 0.8153\n"
     ]
    },
    {
     "data": {
      "application/vnd.jupyter.widget-view+json": {
       "model_id": "fb4f34a3220e468f8bd479822cdd53d2",
       "version_major": 2,
       "version_minor": 0
      },
      "text/plain": [
       "\n",
       "EPOCH: 21 training:   0%|          | 0/956 [00:00<?, ?it/s]"
      ]
     },
     "metadata": {},
     "output_type": "display_data"
    },
    {
     "data": {
      "application/vnd.jupyter.widget-view+json": {
       "model_id": "3046e3bd0882468e84ba94f836b4681f",
       "version_major": 2,
       "version_minor": 0
      },
      "text/plain": [
       "EPOCH: 21 validation:   0%|          | 0/169 [00:00<?, ?it/s]"
      ]
     },
     "metadata": {},
     "output_type": "display_data"
    },
    {
     "name": "stdout",
     "output_type": "stream",
     "text": [
      "Train Loss: 0.0715 \tTrain Acc: 0.9754 \tVal Loss: 0.8625 \tVal Acc: 0.8237\n"
     ]
    },
    {
     "data": {
      "application/vnd.jupyter.widget-view+json": {
       "model_id": "613ae52560cc4be6bd6238a333725972",
       "version_major": 2,
       "version_minor": 0
      },
      "text/plain": [
       "\n",
       "EPOCH: 22 training:   0%|          | 0/956 [00:00<?, ?it/s]"
      ]
     },
     "metadata": {},
     "output_type": "display_data"
    },
    {
     "data": {
      "application/vnd.jupyter.widget-view+json": {
       "model_id": "d1f54533239f40729903ff6904317e47",
       "version_major": 2,
       "version_minor": 0
      },
      "text/plain": [
       "EPOCH: 22 validation:   0%|          | 0/169 [00:00<?, ?it/s]"
      ]
     },
     "metadata": {},
     "output_type": "display_data"
    },
    {
     "name": "stdout",
     "output_type": "stream",
     "text": [
      "Train Loss: 0.0682 \tTrain Acc: 0.9759 \tVal Loss: 0.9197 \tVal Acc: 0.8218\n"
     ]
    },
    {
     "data": {
      "application/vnd.jupyter.widget-view+json": {
       "model_id": "cb0bef388ccf4f0dae1600ecd704a420",
       "version_major": 2,
       "version_minor": 0
      },
      "text/plain": [
       "\n",
       "EPOCH: 23 training:   0%|          | 0/956 [00:00<?, ?it/s]"
      ]
     },
     "metadata": {},
     "output_type": "display_data"
    },
    {
     "data": {
      "application/vnd.jupyter.widget-view+json": {
       "model_id": "06167d24545d40eebeeb97ccd6494f03",
       "version_major": 2,
       "version_minor": 0
      },
      "text/plain": [
       "EPOCH: 23 validation:   0%|          | 0/169 [00:00<?, ?it/s]"
      ]
     },
     "metadata": {},
     "output_type": "display_data"
    },
    {
     "name": "stdout",
     "output_type": "stream",
     "text": [
      "Train Loss: 0.0652 \tTrain Acc: 0.9784 \tVal Loss: 1.0570 \tVal Acc: 0.8009\n"
     ]
    },
    {
     "data": {
      "application/vnd.jupyter.widget-view+json": {
       "model_id": "9baa08a189524865a5de784a15a1773d",
       "version_major": 2,
       "version_minor": 0
      },
      "text/plain": [
       "\n",
       "EPOCH: 24 training:   0%|          | 0/956 [00:00<?, ?it/s]"
      ]
     },
     "metadata": {},
     "output_type": "display_data"
    }
   ],
   "source": [
    "if model_option == 1:\n",
    "    model, History = cnn.start_training()\n",
    "    \n",
    "elif model_option == 2:\n",
    "    model, History = resnet.start_training()\n",
    "\n",
    "elif model_option == 3:\n",
    "    model, History = cnn_lstm.start_training()\n",
    "\n",
    "elif model_option == 4:\n",
    "    model, History = cnn_transformer_v3.start_training()\n",
    "    \n",
    "elif model_option == 5:\n",
    "    model, History = cnn_patch_transformer.start_training()"
   ]
  },
  {
   "cell_type": "markdown",
   "id": "fa1b9cdb",
   "metadata": {},
   "source": [
    "# Predict"
   ]
  },
  {
   "cell_type": "code",
   "execution_count": 2,
   "id": "443dd60a",
   "metadata": {},
   "outputs": [],
   "source": [
    "import mgr.predict as predict\n",
    "import mgr\n",
    "\n",
    "import mgr.train.transformer.cnn_transformer_v3 as cnn_transformer_v3\n",
    "import mgr.train.transformer.cnn_patch_transformer as cnn_patch_transformer\n",
    "import mgr.train.lstm.cnn_lstm as cnn_lstm\n",
    "import mgr.train.cnn.cnn as cnn\n",
    "import mgr.train.cnn.resnet as resnet\n",
    "\n",
    "import torch\n",
    "import os\n",
    "\n",
    "from IPython.display import Audio\n",
    "\n",
    "CFG = mgr.configuration.load_configurations()"
   ]
  },
  {
   "cell_type": "markdown",
   "id": "73fa9a75",
   "metadata": {},
   "source": [
    "# Model Architecture:\n",
    "1.CNN <br>\n",
    "2.Resnet <br>\n",
    "2.CNN+LSTM <br>\n",
    "3.CNN+Transformer(v3) <br>\n",
    "4.CNN+Transformer(Patched)\n",
    "\n",
    "For windows do not use .mp3 file <br>\n",
    "Provide path to the audio file to (AUDIO_PATH) variable which is longer than 3 seconds."
   ]
  },
  {
   "cell_type": "code",
   "execution_count": 74,
   "id": "91fdb5f9",
   "metadata": {},
   "outputs": [
    {
     "name": "stdout",
     "output_type": "stream",
     "text": [
      "Top 3 genres:  ['Electronic', 'Pop', 'International']\n"
     ]
    }
   ],
   "source": [
    "AUDIO_PATH = \"sample_audio/electronic_2.wav\"\n",
    "\n",
    "model_architecture = 5\n",
    "\n",
    "model = None\n",
    "\n",
    "if model_architecture == 1:\n",
    "    model = cnn.getModel()\n",
    "    ckpts = torch.load(os.path.join(CFG['cnn']['train']['save_model_at'], \"cnn.pt\"), map_location=CFG['device'])\n",
    "    model.load_state_dict(ckpts['model'])\n",
    "    \n",
    "elif model_architecture == 2:\n",
    "    model = resnet.getModel()\n",
    "    ckpts = torch.load(os.path.join(CFG['cnn']['train']['save_model_at'], \"resnet.pt\"), map_location=CFG['device'])\n",
    "    model.load_state_dict(ckpts['model'])\n",
    "\n",
    "elif model_architecture == 3:\n",
    "    model = cnn_lstm.getModel()\n",
    "    ckpts = torch.load(os.path.join(CFG['lstm']['train']['save_model_at'], \"lstm.pt\"), map_location=CFG['device'])\n",
    "    model.load_state_dict(ckpts['model'])\n",
    "\n",
    "elif model_architecture == 4:\n",
    "    model = cnn_transformer_v3.getModel()\n",
    "    ckpts = torch.load(os.path.join(CFG['transformer']['train']['save_model_at'], \"transformerv3.pt\"), map_location=CFG['device'])\n",
    "    model.load_state_dict(ckpts['model'])\n",
    "    \n",
    "elif model_architecture == 5:\n",
    "    model = cnn_patch_transformer.getModel()\n",
    "    ckpts = torch.load(os.path.join(CFG['transformer']['train']['save_model_at'], \"cnn_patch_transformer.pt\"), map_location=CFG['device'])\n",
    "    model.load_state_dict(ckpts['model'])\n",
    "    \n",
    "else:\n",
    "    print(\"Enter valid choice!!\")\n",
    "    \n",
    "if model is not None:\n",
    "    print(\"Top 3 genres: \", predict.predict(model, AUDIO_PATH))"
   ]
  },
  {
   "cell_type": "code",
   "execution_count": null,
   "id": "79a86fb3",
   "metadata": {},
   "outputs": [],
   "source": []
  }
 ],
 "metadata": {
  "kernelspec": {
   "display_name": "Python 3 (ipykernel)",
   "language": "python",
   "name": "python3"
  },
  "language_info": {
   "codemirror_mode": {
    "name": "ipython",
    "version": 3
   },
   "file_extension": ".py",
   "mimetype": "text/x-python",
   "name": "python",
   "nbconvert_exporter": "python",
   "pygments_lexer": "ipython3",
   "version": "3.8.12"
  }
 },
 "nbformat": 4,
 "nbformat_minor": 5
}
